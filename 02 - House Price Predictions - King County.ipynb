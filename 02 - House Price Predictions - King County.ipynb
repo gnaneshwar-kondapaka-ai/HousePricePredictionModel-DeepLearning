{
 "cells": [
  {
   "cell_type": "markdown",
   "id": "adea0302",
   "metadata": {},
   "source": [
    "Problem Statement : \n",
    "    Create a Model to predict the price of house using Deep Learning "
   ]
  },
  {
   "cell_type": "markdown",
   "id": "5cc76b8b",
   "metadata": {},
   "source": [
    "In this project I have developed a model to predict the house price using Deep Learning techniques"
   ]
  },
  {
   "cell_type": "markdown",
   "id": "137e345e",
   "metadata": {},
   "source": [
    "I have used King County data set to solve the problem statement"
   ]
  },
  {
   "cell_type": "code",
   "execution_count": 3,
   "id": "b9140d65",
   "metadata": {},
   "outputs": [],
   "source": [
    "#Import statements\n",
    "import numpy as np\n",
    "import pandas as pd\n",
    "import seaborn as sns\n",
    "import matplotlib.pyplot as plt"
   ]
  },
  {
   "cell_type": "code",
   "execution_count": 2,
   "id": "4c6df88f",
   "metadata": {},
   "outputs": [],
   "source": [
    "king_county = pd.read_csv('kc_house_data.csv')"
   ]
  },
  {
   "cell_type": "code",
   "execution_count": 3,
   "id": "5a30ad16",
   "metadata": {},
   "outputs": [
    {
     "data": {
      "text/html": [
       "<div>\n",
       "<style scoped>\n",
       "    .dataframe tbody tr th:only-of-type {\n",
       "        vertical-align: middle;\n",
       "    }\n",
       "\n",
       "    .dataframe tbody tr th {\n",
       "        vertical-align: top;\n",
       "    }\n",
       "\n",
       "    .dataframe thead th {\n",
       "        text-align: right;\n",
       "    }\n",
       "</style>\n",
       "<table border=\"1\" class=\"dataframe\">\n",
       "  <thead>\n",
       "    <tr style=\"text-align: right;\">\n",
       "      <th></th>\n",
       "      <th>id</th>\n",
       "      <th>date</th>\n",
       "      <th>price</th>\n",
       "      <th>bedrooms</th>\n",
       "      <th>bathrooms</th>\n",
       "      <th>sqft_living</th>\n",
       "      <th>sqft_lot</th>\n",
       "      <th>floors</th>\n",
       "      <th>waterfront</th>\n",
       "      <th>view</th>\n",
       "      <th>...</th>\n",
       "      <th>grade</th>\n",
       "      <th>sqft_above</th>\n",
       "      <th>sqft_basement</th>\n",
       "      <th>yr_built</th>\n",
       "      <th>yr_renovated</th>\n",
       "      <th>zipcode</th>\n",
       "      <th>lat</th>\n",
       "      <th>long</th>\n",
       "      <th>sqft_living15</th>\n",
       "      <th>sqft_lot15</th>\n",
       "    </tr>\n",
       "  </thead>\n",
       "  <tbody>\n",
       "    <tr>\n",
       "      <th>0</th>\n",
       "      <td>7129300520</td>\n",
       "      <td>20141013T000000</td>\n",
       "      <td>221900.0</td>\n",
       "      <td>3</td>\n",
       "      <td>1.00</td>\n",
       "      <td>1180</td>\n",
       "      <td>5650</td>\n",
       "      <td>1.0</td>\n",
       "      <td>0</td>\n",
       "      <td>0</td>\n",
       "      <td>...</td>\n",
       "      <td>7</td>\n",
       "      <td>1180</td>\n",
       "      <td>0</td>\n",
       "      <td>1955</td>\n",
       "      <td>0</td>\n",
       "      <td>98178</td>\n",
       "      <td>47.5112</td>\n",
       "      <td>-122.257</td>\n",
       "      <td>1340</td>\n",
       "      <td>5650</td>\n",
       "    </tr>\n",
       "    <tr>\n",
       "      <th>1</th>\n",
       "      <td>6414100192</td>\n",
       "      <td>20141209T000000</td>\n",
       "      <td>538000.0</td>\n",
       "      <td>3</td>\n",
       "      <td>2.25</td>\n",
       "      <td>2570</td>\n",
       "      <td>7242</td>\n",
       "      <td>2.0</td>\n",
       "      <td>0</td>\n",
       "      <td>0</td>\n",
       "      <td>...</td>\n",
       "      <td>7</td>\n",
       "      <td>2170</td>\n",
       "      <td>400</td>\n",
       "      <td>1951</td>\n",
       "      <td>1991</td>\n",
       "      <td>98125</td>\n",
       "      <td>47.7210</td>\n",
       "      <td>-122.319</td>\n",
       "      <td>1690</td>\n",
       "      <td>7639</td>\n",
       "    </tr>\n",
       "    <tr>\n",
       "      <th>2</th>\n",
       "      <td>5631500400</td>\n",
       "      <td>20150225T000000</td>\n",
       "      <td>180000.0</td>\n",
       "      <td>2</td>\n",
       "      <td>1.00</td>\n",
       "      <td>770</td>\n",
       "      <td>10000</td>\n",
       "      <td>1.0</td>\n",
       "      <td>0</td>\n",
       "      <td>0</td>\n",
       "      <td>...</td>\n",
       "      <td>6</td>\n",
       "      <td>770</td>\n",
       "      <td>0</td>\n",
       "      <td>1933</td>\n",
       "      <td>0</td>\n",
       "      <td>98028</td>\n",
       "      <td>47.7379</td>\n",
       "      <td>-122.233</td>\n",
       "      <td>2720</td>\n",
       "      <td>8062</td>\n",
       "    </tr>\n",
       "    <tr>\n",
       "      <th>3</th>\n",
       "      <td>2487200875</td>\n",
       "      <td>20141209T000000</td>\n",
       "      <td>604000.0</td>\n",
       "      <td>4</td>\n",
       "      <td>3.00</td>\n",
       "      <td>1960</td>\n",
       "      <td>5000</td>\n",
       "      <td>1.0</td>\n",
       "      <td>0</td>\n",
       "      <td>0</td>\n",
       "      <td>...</td>\n",
       "      <td>7</td>\n",
       "      <td>1050</td>\n",
       "      <td>910</td>\n",
       "      <td>1965</td>\n",
       "      <td>0</td>\n",
       "      <td>98136</td>\n",
       "      <td>47.5208</td>\n",
       "      <td>-122.393</td>\n",
       "      <td>1360</td>\n",
       "      <td>5000</td>\n",
       "    </tr>\n",
       "    <tr>\n",
       "      <th>4</th>\n",
       "      <td>1954400510</td>\n",
       "      <td>20150218T000000</td>\n",
       "      <td>510000.0</td>\n",
       "      <td>3</td>\n",
       "      <td>2.00</td>\n",
       "      <td>1680</td>\n",
       "      <td>8080</td>\n",
       "      <td>1.0</td>\n",
       "      <td>0</td>\n",
       "      <td>0</td>\n",
       "      <td>...</td>\n",
       "      <td>8</td>\n",
       "      <td>1680</td>\n",
       "      <td>0</td>\n",
       "      <td>1987</td>\n",
       "      <td>0</td>\n",
       "      <td>98074</td>\n",
       "      <td>47.6168</td>\n",
       "      <td>-122.045</td>\n",
       "      <td>1800</td>\n",
       "      <td>7503</td>\n",
       "    </tr>\n",
       "  </tbody>\n",
       "</table>\n",
       "<p>5 rows × 21 columns</p>\n",
       "</div>"
      ],
      "text/plain": [
       "           id             date     price  bedrooms  bathrooms  sqft_living  \\\n",
       "0  7129300520  20141013T000000  221900.0         3       1.00         1180   \n",
       "1  6414100192  20141209T000000  538000.0         3       2.25         2570   \n",
       "2  5631500400  20150225T000000  180000.0         2       1.00          770   \n",
       "3  2487200875  20141209T000000  604000.0         4       3.00         1960   \n",
       "4  1954400510  20150218T000000  510000.0         3       2.00         1680   \n",
       "\n",
       "   sqft_lot  floors  waterfront  view  ...  grade  sqft_above  sqft_basement  \\\n",
       "0      5650     1.0           0     0  ...      7        1180              0   \n",
       "1      7242     2.0           0     0  ...      7        2170            400   \n",
       "2     10000     1.0           0     0  ...      6         770              0   \n",
       "3      5000     1.0           0     0  ...      7        1050            910   \n",
       "4      8080     1.0           0     0  ...      8        1680              0   \n",
       "\n",
       "   yr_built  yr_renovated  zipcode      lat     long  sqft_living15  \\\n",
       "0      1955             0    98178  47.5112 -122.257           1340   \n",
       "1      1951          1991    98125  47.7210 -122.319           1690   \n",
       "2      1933             0    98028  47.7379 -122.233           2720   \n",
       "3      1965             0    98136  47.5208 -122.393           1360   \n",
       "4      1987             0    98074  47.6168 -122.045           1800   \n",
       "\n",
       "   sqft_lot15  \n",
       "0        5650  \n",
       "1        7639  \n",
       "2        8062  \n",
       "3        5000  \n",
       "4        7503  \n",
       "\n",
       "[5 rows x 21 columns]"
      ]
     },
     "execution_count": 3,
     "metadata": {},
     "output_type": "execute_result"
    }
   ],
   "source": [
    "king_county.head()"
   ]
  },
  {
   "cell_type": "code",
   "execution_count": 4,
   "id": "1352efe5",
   "metadata": {},
   "outputs": [
    {
     "data": {
      "text/plain": [
       "<Figure size 720x360 with 0 Axes>"
      ]
     },
     "metadata": {},
     "output_type": "display_data"
    }
   ],
   "source": [
    "fig = plt.figure(figsize=(10,5))\n",
    "#sns.histplot(y=king_county['price'], bins=50)\n",
    "#sns.displot(y=king_county['price'])\n",
    "#sns.scatterplot(data=king_county['price'])"
   ]
  },
  {
   "cell_type": "code",
   "execution_count": 5,
   "id": "7f7a2309",
   "metadata": {},
   "outputs": [
    {
     "data": {
      "text/plain": [
       "count    2.161300e+04\n",
       "mean     5.400881e+05\n",
       "std      3.671272e+05\n",
       "min      7.500000e+04\n",
       "25%      3.219500e+05\n",
       "50%      4.500000e+05\n",
       "75%      6.450000e+05\n",
       "max      7.700000e+06\n",
       "Name: price, dtype: float64"
      ]
     },
     "execution_count": 5,
     "metadata": {},
     "output_type": "execute_result"
    }
   ],
   "source": [
    "king_county['price'].describe()"
   ]
  },
  {
   "cell_type": "markdown",
   "id": "4ff88870",
   "metadata": {},
   "source": [
    "# EDA"
   ]
  },
  {
   "cell_type": "code",
   "execution_count": 27,
   "id": "1a465345",
   "metadata": {},
   "outputs": [
    {
     "data": {
      "image/png": "[encoded data removed]",
      "text/plain": [
       "<Figure size 1080x576 with 1 Axes>"
      ]
     },
     "metadata": {
      "needs_background": "light"
     },
     "output_type": "display_data"
    }
   ],
   "source": [
    "plt.figure(figsize=(15,8))\n",
    "ax = plt.gca()\n",
    "ax.get_xaxis().get_major_formatter().set_scientific(False)\n",
    "plt.hist(king_county['price'])\n",
    "#ax.ticklabel_format(style='plain')\n",
    "\n",
    "ax.set_xlabel(\"Price\")\n",
    "ax.set_ylabel(\"Count\")\n",
    "ax.set_title(\"King County - Price VS Count\")\n",
    "plt.show()\n"
   ]
  },
  {
   "cell_type": "code",
   "execution_count": 115,
   "id": "c650eb54",
   "metadata": {
    "scrolled": true
   },
   "outputs": [
    {
     "data": {
      "text/plain": [
       "19777    2641100.0\n",
       "18409    2630000.0\n",
       "13710    2600000.0\n",
       "14822    2600000.0\n",
       "9322     2575000.0\n",
       "           ...    \n",
       "15632    2271150.0\n",
       "1282     2260000.0\n",
       "20096    2250000.0\n",
       "1676     2250000.0\n",
       "6783     2250000.0\n",
       "Name: price, Length: 70, dtype: float64"
      ]
     },
     "execution_count": 115,
     "metadata": {},
     "output_type": "execute_result"
    }
   ],
   "source": [
    "king_county['price'].sort_values(ascending=False).iloc[80:150]"
   ]
  },
  {
   "cell_type": "code",
   "execution_count": 8,
   "id": "22e418fc",
   "metadata": {},
   "outputs": [
    {
     "data": {
      "text/plain": [
       "21613"
      ]
     },
     "execution_count": 8,
     "metadata": {},
     "output_type": "execute_result"
    }
   ],
   "source": [
    "king_county['price'].count()"
   ]
  },
  {
   "cell_type": "code",
   "execution_count": 10,
   "id": "a0f40da7",
   "metadata": {},
   "outputs": [
    {
     "data": {
      "text/plain": [
       "<AxesSubplot:xlabel='bedrooms', ylabel='count'>"
      ]
     },
     "execution_count": 10,
     "metadata": {},
     "output_type": "execute_result"
    },
    {
     "data": {
      "image/png": "[encoded data removed]",
      "text/plain": [
       "<Figure size 432x288 with 1 Axes>"
      ]
     },
     "metadata": {
      "needs_background": "light"
     },
     "output_type": "display_data"
    }
   ],
   "source": [
    "#Count plot for bed rooms\n",
    "sns.countplot(data=king_county, x='bedrooms')"
   ]
  },
  {
   "cell_type": "code",
   "execution_count": 12,
   "id": "a5fb2d63",
   "metadata": {},
   "outputs": [
    {
     "data": {
      "text/plain": [
       "3     9824\n",
       "4     6882\n",
       "2     2760\n",
       "5     1601\n",
       "6      272\n",
       "1      199\n",
       "7       38\n",
       "0       13\n",
       "8       13\n",
       "9        6\n",
       "10       3\n",
       "11       1\n",
       "33       1\n",
       "Name: bedrooms, dtype: int64"
      ]
     },
     "execution_count": 12,
     "metadata": {},
     "output_type": "execute_result"
    }
   ],
   "source": [
    "king_county['bedrooms'].value_counts()"
   ]
  },
  {
   "cell_type": "code",
   "execution_count": 126,
   "id": "dea8ced1",
   "metadata": {},
   "outputs": [
    {
     "data": {
      "text/plain": [
       "price            1.000000\n",
       "sqft_living      0.702035\n",
       "grade            0.667434\n",
       "sqft_above       0.605567\n",
       "sqft_living15    0.585379\n",
       "bathrooms        0.525138\n",
       "view             0.397293\n",
       "sqft_basement    0.323816\n",
       "bedrooms         0.308350\n",
       "lat              0.307003\n",
       "waterfront       0.266369\n",
       "floors           0.256794\n",
       "yr_renovated     0.126434\n",
       "sqft_lot         0.089661\n",
       "sqft_lot15       0.082447\n",
       "yr_built         0.054012\n",
       "condition        0.036362\n",
       "long             0.021626\n",
       "id              -0.016762\n",
       "zipcode         -0.053203\n",
       "Name: price, dtype: float64"
      ]
     },
     "execution_count": 126,
     "metadata": {},
     "output_type": "execute_result"
    }
   ],
   "source": [
    "# View Correlations with other columns\n",
    "king_county.corr()['price'].sort_values(ascending=False)"
   ]
  },
  {
   "cell_type": "code",
   "execution_count": 131,
   "id": "0c9459ab",
   "metadata": {},
   "outputs": [
    {
     "data": {
      "text/plain": [
       "<AxesSubplot:xlabel='sqft_living', ylabel='price'>"
      ]
     },
     "execution_count": 131,
     "metadata": {},
     "output_type": "execute_result"
    },
    {
     "data": {
      "image/png": "[encoded data removed]",
      "text/plain": [
       "<Figure size 432x288 with 1 Axes>"
      ]
     },
     "metadata": {
      "needs_background": "light"
     },
     "output_type": "display_data"
    }
   ],
   "source": [
    "sns.scatterplot(data=king_county, y='price', x='sqft_living')"
   ]
  },
  {
   "cell_type": "code",
   "execution_count": 134,
   "id": "5f1b3048",
   "metadata": {},
   "outputs": [
    {
     "data": {
      "text/plain": [
       "<AxesSubplot:xlabel='bedrooms', ylabel='price'>"
      ]
     },
     "execution_count": 134,
     "metadata": {},
     "output_type": "execute_result"
    },
    {
     "data": {
      "image/png": "[encoded data removed]",
      "text/plain": [
       "<Figure size 864x576 with 1 Axes>"
      ]
     },
     "metadata": {
      "needs_background": "light"
     },
     "output_type": "display_data"
    }
   ],
   "source": [
    "#Box plot - Bedrooms VS Price\n",
    "plt.figure(figsize=(12,8))\n",
    "sns.boxplot(data=king_county, y='price', x='bedrooms')"
   ]
  },
  {
   "cell_type": "code",
   "execution_count": 135,
   "id": "ecfd4e88",
   "metadata": {},
   "outputs": [
    {
     "data": {
      "text/plain": [
       "<AxesSubplot:xlabel='lat', ylabel='price'>"
      ]
     },
     "execution_count": 135,
     "metadata": {},
     "output_type": "execute_result"
    },
    {
     "data": {
      "image/png": "[encoded data removed]",
      "text/plain": [
       "<Figure size 432x288 with 1 Axes>"
      ]
     },
     "metadata": {
      "needs_background": "light"
     },
     "output_type": "display_data"
    }
   ],
   "source": [
    "sns.scatterplot(data=king_county, x='lat', y='price')"
   ]
  },
  {
   "cell_type": "code",
   "execution_count": 136,
   "id": "98fe95ee",
   "metadata": {},
   "outputs": [
    {
     "data": {
      "text/plain": [
       "<AxesSubplot:xlabel='long', ylabel='price'>"
      ]
     },
     "execution_count": 136,
     "metadata": {},
     "output_type": "execute_result"
    },
    {
     "data": {
      "image/png": "[encoded data removed]",
      "text/plain": [
       "<Figure size 432x288 with 1 Axes>"
      ]
     },
     "metadata": {
      "needs_background": "light"
     },
     "output_type": "display_data"
    }
   ],
   "source": [
    "sns.scatterplot(data=king_county, x='long', y='price')"
   ]
  },
  {
   "cell_type": "code",
   "execution_count": 140,
   "id": "9626ef8f",
   "metadata": {},
   "outputs": [
    {
     "data": {
      "text/plain": [
       "<AxesSubplot:xlabel='long', ylabel='lat'>"
      ]
     },
     "execution_count": 140,
     "metadata": {},
     "output_type": "execute_result"
    },
    {
     "data": {
      "image/png": "[encoded data removed]",
      "text/plain": [
       "<Figure size 432x288 with 1 Axes>"
      ]
     },
     "metadata": {
      "needs_background": "light"
     },
     "output_type": "display_data"
    }
   ],
   "source": [
    "sns.scatterplot(data=king_county, x='long', y='lat', hue='price')"
   ]
  },
  {
   "cell_type": "code",
   "execution_count": 147,
   "id": "a35640d9",
   "metadata": {},
   "outputs": [
    {
     "data": {
      "text/plain": [
       "10468    2000000.0\n",
       "15039    2000000.0\n",
       "19215    2000000.0\n",
       "4486     2000000.0\n",
       "12613    2000000.0\n",
       "           ...    \n",
       "8274       82000.0\n",
       "16198      81000.0\n",
       "465        80000.0\n",
       "15293      78000.0\n",
       "1149       75000.0\n",
       "Name: price, Length: 21413, dtype: float64"
      ]
     },
     "execution_count": 147,
     "metadata": {},
     "output_type": "execute_result"
    }
   ],
   "source": [
    "king_county['price'].sort_values(ascending=False).iloc[200:]"
   ]
  },
  {
   "cell_type": "code",
   "execution_count": 13,
   "id": "cdbbb639",
   "metadata": {},
   "outputs": [],
   "source": [
    "valid_king_county = king_county.sort_values(by='price', ascending=False).iloc[200:]"
   ]
  },
  {
   "cell_type": "code",
   "execution_count": 14,
   "id": "24b269eb",
   "metadata": {},
   "outputs": [
    {
     "data": {
      "text/html": [
       "<div>\n",
       "<style scoped>\n",
       "    .dataframe tbody tr th:only-of-type {\n",
       "        vertical-align: middle;\n",
       "    }\n",
       "\n",
       "    .dataframe tbody tr th {\n",
       "        vertical-align: top;\n",
       "    }\n",
       "\n",
       "    .dataframe thead th {\n",
       "        text-align: right;\n",
       "    }\n",
       "</style>\n",
       "<table border=\"1\" class=\"dataframe\">\n",
       "  <thead>\n",
       "    <tr style=\"text-align: right;\">\n",
       "      <th></th>\n",
       "      <th>id</th>\n",
       "      <th>date</th>\n",
       "      <th>price</th>\n",
       "      <th>bedrooms</th>\n",
       "      <th>bathrooms</th>\n",
       "      <th>sqft_living</th>\n",
       "      <th>sqft_lot</th>\n",
       "      <th>floors</th>\n",
       "      <th>waterfront</th>\n",
       "      <th>view</th>\n",
       "      <th>...</th>\n",
       "      <th>grade</th>\n",
       "      <th>sqft_above</th>\n",
       "      <th>sqft_basement</th>\n",
       "      <th>yr_built</th>\n",
       "      <th>yr_renovated</th>\n",
       "      <th>zipcode</th>\n",
       "      <th>lat</th>\n",
       "      <th>long</th>\n",
       "      <th>sqft_living15</th>\n",
       "      <th>sqft_lot15</th>\n",
       "    </tr>\n",
       "  </thead>\n",
       "  <tbody>\n",
       "    <tr>\n",
       "      <th>10468</th>\n",
       "      <td>1732800310</td>\n",
       "      <td>20150302T000000</td>\n",
       "      <td>2000000.0</td>\n",
       "      <td>4</td>\n",
       "      <td>3.75</td>\n",
       "      <td>2870</td>\n",
       "      <td>4500</td>\n",
       "      <td>2.0</td>\n",
       "      <td>0</td>\n",
       "      <td>3</td>\n",
       "      <td>...</td>\n",
       "      <td>10</td>\n",
       "      <td>2510</td>\n",
       "      <td>360</td>\n",
       "      <td>2012</td>\n",
       "      <td>0</td>\n",
       "      <td>98119</td>\n",
       "      <td>47.6291</td>\n",
       "      <td>-122.363</td>\n",
       "      <td>2870</td>\n",
       "      <td>6354</td>\n",
       "    </tr>\n",
       "    <tr>\n",
       "      <th>15039</th>\n",
       "      <td>2726049034</td>\n",
       "      <td>20141110T000000</td>\n",
       "      <td>2000000.0</td>\n",
       "      <td>3</td>\n",
       "      <td>3.25</td>\n",
       "      <td>2610</td>\n",
       "      <td>16387</td>\n",
       "      <td>2.0</td>\n",
       "      <td>1</td>\n",
       "      <td>4</td>\n",
       "      <td>...</td>\n",
       "      <td>9</td>\n",
       "      <td>2610</td>\n",
       "      <td>0</td>\n",
       "      <td>2006</td>\n",
       "      <td>0</td>\n",
       "      <td>98125</td>\n",
       "      <td>47.7175</td>\n",
       "      <td>-122.278</td>\n",
       "      <td>2590</td>\n",
       "      <td>12958</td>\n",
       "    </tr>\n",
       "    <tr>\n",
       "      <th>19215</th>\n",
       "      <td>4131900042</td>\n",
       "      <td>20140516T000000</td>\n",
       "      <td>2000000.0</td>\n",
       "      <td>5</td>\n",
       "      <td>4.25</td>\n",
       "      <td>6490</td>\n",
       "      <td>10862</td>\n",
       "      <td>2.0</td>\n",
       "      <td>0</td>\n",
       "      <td>3</td>\n",
       "      <td>...</td>\n",
       "      <td>11</td>\n",
       "      <td>3940</td>\n",
       "      <td>2550</td>\n",
       "      <td>1991</td>\n",
       "      <td>0</td>\n",
       "      <td>98040</td>\n",
       "      <td>47.5728</td>\n",
       "      <td>-122.205</td>\n",
       "      <td>3290</td>\n",
       "      <td>14080</td>\n",
       "    </tr>\n",
       "    <tr>\n",
       "      <th>4486</th>\n",
       "      <td>1724069059</td>\n",
       "      <td>20140524T000000</td>\n",
       "      <td>2000000.0</td>\n",
       "      <td>5</td>\n",
       "      <td>4.00</td>\n",
       "      <td>4580</td>\n",
       "      <td>4443</td>\n",
       "      <td>3.0</td>\n",
       "      <td>1</td>\n",
       "      <td>4</td>\n",
       "      <td>...</td>\n",
       "      <td>10</td>\n",
       "      <td>4580</td>\n",
       "      <td>0</td>\n",
       "      <td>2004</td>\n",
       "      <td>0</td>\n",
       "      <td>98075</td>\n",
       "      <td>47.5682</td>\n",
       "      <td>-122.059</td>\n",
       "      <td>2710</td>\n",
       "      <td>4443</td>\n",
       "    </tr>\n",
       "    <tr>\n",
       "      <th>12613</th>\n",
       "      <td>3225069241</td>\n",
       "      <td>20150422T000000</td>\n",
       "      <td>2000000.0</td>\n",
       "      <td>3</td>\n",
       "      <td>2.50</td>\n",
       "      <td>3490</td>\n",
       "      <td>21064</td>\n",
       "      <td>1.0</td>\n",
       "      <td>1</td>\n",
       "      <td>4</td>\n",
       "      <td>...</td>\n",
       "      <td>10</td>\n",
       "      <td>2290</td>\n",
       "      <td>1200</td>\n",
       "      <td>1968</td>\n",
       "      <td>0</td>\n",
       "      <td>98074</td>\n",
       "      <td>47.6092</td>\n",
       "      <td>-122.073</td>\n",
       "      <td>1780</td>\n",
       "      <td>15244</td>\n",
       "    </tr>\n",
       "  </tbody>\n",
       "</table>\n",
       "<p>5 rows × 21 columns</p>\n",
       "</div>"
      ],
      "text/plain": [
       "               id             date      price  bedrooms  bathrooms  \\\n",
       "10468  1732800310  20150302T000000  2000000.0         4       3.75   \n",
       "15039  2726049034  20141110T000000  2000000.0         3       3.25   \n",
       "19215  4131900042  20140516T000000  2000000.0         5       4.25   \n",
       "4486   1724069059  20140524T000000  2000000.0         5       4.00   \n",
       "12613  3225069241  20150422T000000  2000000.0         3       2.50   \n",
       "\n",
       "       sqft_living  sqft_lot  floors  waterfront  view  ...  grade  \\\n",
       "10468         2870      4500     2.0           0     3  ...     10   \n",
       "15039         2610     16387     2.0           1     4  ...      9   \n",
       "19215         6490     10862     2.0           0     3  ...     11   \n",
       "4486          4580      4443     3.0           1     4  ...     10   \n",
       "12613         3490     21064     1.0           1     4  ...     10   \n",
       "\n",
       "       sqft_above  sqft_basement  yr_built  yr_renovated  zipcode      lat  \\\n",
       "10468        2510            360      2012             0    98119  47.6291   \n",
       "15039        2610              0      2006             0    98125  47.7175   \n",
       "19215        3940           2550      1991             0    98040  47.5728   \n",
       "4486         4580              0      2004             0    98075  47.5682   \n",
       "12613        2290           1200      1968             0    98074  47.6092   \n",
       "\n",
       "          long  sqft_living15  sqft_lot15  \n",
       "10468 -122.363           2870        6354  \n",
       "15039 -122.278           2590       12958  \n",
       "19215 -122.205           3290       14080  \n",
       "4486  -122.059           2710        4443  \n",
       "12613 -122.073           1780       15244  \n",
       "\n",
       "[5 rows x 21 columns]"
      ]
     },
     "execution_count": 14,
     "metadata": {},
     "output_type": "execute_result"
    }
   ],
   "source": [
    "valid_king_county.head()"
   ]
  },
  {
   "cell_type": "code",
   "execution_count": 15,
   "id": "df7526de",
   "metadata": {},
   "outputs": [
    {
     "data": {
      "text/plain": [
       "10468    2000000.0\n",
       "4486     2000000.0\n",
       "12613    2000000.0\n",
       "15039    2000000.0\n",
       "19215    2000000.0\n",
       "           ...    \n",
       "8274       82000.0\n",
       "16198      81000.0\n",
       "465        80000.0\n",
       "15293      78000.0\n",
       "1149       75000.0\n",
       "Name: price, Length: 21413, dtype: float64"
      ]
     },
     "execution_count": 15,
     "metadata": {},
     "output_type": "execute_result"
    }
   ],
   "source": [
    "valid_king_county['price'].sort_values(ascending=False)"
   ]
  },
  {
   "cell_type": "code",
   "execution_count": 169,
   "id": "f7c76f14",
   "metadata": {},
   "outputs": [
    {
     "data": {
      "text/plain": [
       "<AxesSubplot:xlabel='long', ylabel='lat'>"
      ]
     },
     "execution_count": 169,
     "metadata": {},
     "output_type": "execute_result"
    },
    {
     "data": {
      "image/png": "[encoded data removed]",
      "text/plain": [
       "<Figure size 864x576 with 1 Axes>"
      ]
     },
     "metadata": {
      "needs_background": "light"
     },
     "output_type": "display_data"
    }
   ],
   "source": [
    "plt.figure(figsize=(12,8))\n",
    "sns.scatterplot(data=valid_king_county, x='long', y='lat', hue='price', palette='RdYlGn', edgecolor='none', alpha=0.2)"
   ]
  },
  {
   "cell_type": "code",
   "execution_count": 32,
   "id": "719c5d87",
   "metadata": {},
   "outputs": [],
   "source": [
    "#View pricing for water view houses\n",
    "#valid_king_county.head()"
   ]
  },
  {
   "cell_type": "code",
   "execution_count": 28,
   "id": "e0941128",
   "metadata": {},
   "outputs": [
    {
     "data": {
      "text/plain": [
       "0    21296\n",
       "1      117\n",
       "Name: waterfront, dtype: int64"
      ]
     },
     "execution_count": 28,
     "metadata": {},
     "output_type": "execute_result"
    }
   ],
   "source": [
    "valid_king_county['waterfront'].value_counts()"
   ]
  },
  {
   "cell_type": "code",
   "execution_count": 31,
   "id": "3dc3e3fb",
   "metadata": {},
   "outputs": [
    {
     "data": {
      "text/plain": [
       "<AxesSubplot:xlabel='waterfront', ylabel='price'>"
      ]
     },
     "execution_count": 31,
     "metadata": {},
     "output_type": "execute_result"
    },
    {
     "data": {
      "image/png": "[encoded data removed]",
      "text/plain": [
       "<Figure size 432x288 with 1 Axes>"
      ]
     },
     "metadata": {
      "needs_background": "light"
     },
     "output_type": "display_data"
    }
   ],
   "source": [
    "sns.boxplot(data=valid_king_county, x='waterfront', y='price')"
   ]
  },
  {
   "cell_type": "markdown",
   "id": "4d2817d9",
   "metadata": {},
   "source": [
    "# Feature Engineering"
   ]
  },
  {
   "cell_type": "code",
   "execution_count": 33,
   "id": "ec8dfda9",
   "metadata": {},
   "outputs": [
    {
     "data": {
      "text/html": [
       "<div>\n",
       "<style scoped>\n",
       "    .dataframe tbody tr th:only-of-type {\n",
       "        vertical-align: middle;\n",
       "    }\n",
       "\n",
       "    .dataframe tbody tr th {\n",
       "        vertical-align: top;\n",
       "    }\n",
       "\n",
       "    .dataframe thead th {\n",
       "        text-align: right;\n",
       "    }\n",
       "</style>\n",
       "<table border=\"1\" class=\"dataframe\">\n",
       "  <thead>\n",
       "    <tr style=\"text-align: right;\">\n",
       "      <th></th>\n",
       "      <th>id</th>\n",
       "      <th>date</th>\n",
       "      <th>price</th>\n",
       "      <th>bedrooms</th>\n",
       "      <th>bathrooms</th>\n",
       "      <th>sqft_living</th>\n",
       "      <th>sqft_lot</th>\n",
       "      <th>floors</th>\n",
       "      <th>waterfront</th>\n",
       "      <th>view</th>\n",
       "      <th>...</th>\n",
       "      <th>grade</th>\n",
       "      <th>sqft_above</th>\n",
       "      <th>sqft_basement</th>\n",
       "      <th>yr_built</th>\n",
       "      <th>yr_renovated</th>\n",
       "      <th>zipcode</th>\n",
       "      <th>lat</th>\n",
       "      <th>long</th>\n",
       "      <th>sqft_living15</th>\n",
       "      <th>sqft_lot15</th>\n",
       "    </tr>\n",
       "  </thead>\n",
       "  <tbody>\n",
       "    <tr>\n",
       "      <th>10468</th>\n",
       "      <td>1732800310</td>\n",
       "      <td>20150302T000000</td>\n",
       "      <td>2000000.0</td>\n",
       "      <td>4</td>\n",
       "      <td>3.75</td>\n",
       "      <td>2870</td>\n",
       "      <td>4500</td>\n",
       "      <td>2.0</td>\n",
       "      <td>0</td>\n",
       "      <td>3</td>\n",
       "      <td>...</td>\n",
       "      <td>10</td>\n",
       "      <td>2510</td>\n",
       "      <td>360</td>\n",
       "      <td>2012</td>\n",
       "      <td>0</td>\n",
       "      <td>98119</td>\n",
       "      <td>47.6291</td>\n",
       "      <td>-122.363</td>\n",
       "      <td>2870</td>\n",
       "      <td>6354</td>\n",
       "    </tr>\n",
       "    <tr>\n",
       "      <th>15039</th>\n",
       "      <td>2726049034</td>\n",
       "      <td>20141110T000000</td>\n",
       "      <td>2000000.0</td>\n",
       "      <td>3</td>\n",
       "      <td>3.25</td>\n",
       "      <td>2610</td>\n",
       "      <td>16387</td>\n",
       "      <td>2.0</td>\n",
       "      <td>1</td>\n",
       "      <td>4</td>\n",
       "      <td>...</td>\n",
       "      <td>9</td>\n",
       "      <td>2610</td>\n",
       "      <td>0</td>\n",
       "      <td>2006</td>\n",
       "      <td>0</td>\n",
       "      <td>98125</td>\n",
       "      <td>47.7175</td>\n",
       "      <td>-122.278</td>\n",
       "      <td>2590</td>\n",
       "      <td>12958</td>\n",
       "    </tr>\n",
       "    <tr>\n",
       "      <th>19215</th>\n",
       "      <td>4131900042</td>\n",
       "      <td>20140516T000000</td>\n",
       "      <td>2000000.0</td>\n",
       "      <td>5</td>\n",
       "      <td>4.25</td>\n",
       "      <td>6490</td>\n",
       "      <td>10862</td>\n",
       "      <td>2.0</td>\n",
       "      <td>0</td>\n",
       "      <td>3</td>\n",
       "      <td>...</td>\n",
       "      <td>11</td>\n",
       "      <td>3940</td>\n",
       "      <td>2550</td>\n",
       "      <td>1991</td>\n",
       "      <td>0</td>\n",
       "      <td>98040</td>\n",
       "      <td>47.5728</td>\n",
       "      <td>-122.205</td>\n",
       "      <td>3290</td>\n",
       "      <td>14080</td>\n",
       "    </tr>\n",
       "    <tr>\n",
       "      <th>4486</th>\n",
       "      <td>1724069059</td>\n",
       "      <td>20140524T000000</td>\n",
       "      <td>2000000.0</td>\n",
       "      <td>5</td>\n",
       "      <td>4.00</td>\n",
       "      <td>4580</td>\n",
       "      <td>4443</td>\n",
       "      <td>3.0</td>\n",
       "      <td>1</td>\n",
       "      <td>4</td>\n",
       "      <td>...</td>\n",
       "      <td>10</td>\n",
       "      <td>4580</td>\n",
       "      <td>0</td>\n",
       "      <td>2004</td>\n",
       "      <td>0</td>\n",
       "      <td>98075</td>\n",
       "      <td>47.5682</td>\n",
       "      <td>-122.059</td>\n",
       "      <td>2710</td>\n",
       "      <td>4443</td>\n",
       "    </tr>\n",
       "    <tr>\n",
       "      <th>12613</th>\n",
       "      <td>3225069241</td>\n",
       "      <td>20150422T000000</td>\n",
       "      <td>2000000.0</td>\n",
       "      <td>3</td>\n",
       "      <td>2.50</td>\n",
       "      <td>3490</td>\n",
       "      <td>21064</td>\n",
       "      <td>1.0</td>\n",
       "      <td>1</td>\n",
       "      <td>4</td>\n",
       "      <td>...</td>\n",
       "      <td>10</td>\n",
       "      <td>2290</td>\n",
       "      <td>1200</td>\n",
       "      <td>1968</td>\n",
       "      <td>0</td>\n",
       "      <td>98074</td>\n",
       "      <td>47.6092</td>\n",
       "      <td>-122.073</td>\n",
       "      <td>1780</td>\n",
       "      <td>15244</td>\n",
       "    </tr>\n",
       "  </tbody>\n",
       "</table>\n",
       "<p>5 rows × 21 columns</p>\n",
       "</div>"
      ],
      "text/plain": [
       "               id             date      price  bedrooms  bathrooms  \\\n",
       "10468  1732800310  20150302T000000  2000000.0         4       3.75   \n",
       "15039  2726049034  20141110T000000  2000000.0         3       3.25   \n",
       "19215  4131900042  20140516T000000  2000000.0         5       4.25   \n",
       "4486   1724069059  20140524T000000  2000000.0         5       4.00   \n",
       "12613  3225069241  20150422T000000  2000000.0         3       2.50   \n",
       "\n",
       "       sqft_living  sqft_lot  floors  waterfront  view  ...  grade  \\\n",
       "10468         2870      4500     2.0           0     3  ...     10   \n",
       "15039         2610     16387     2.0           1     4  ...      9   \n",
       "19215         6490     10862     2.0           0     3  ...     11   \n",
       "4486          4580      4443     3.0           1     4  ...     10   \n",
       "12613         3490     21064     1.0           1     4  ...     10   \n",
       "\n",
       "       sqft_above  sqft_basement  yr_built  yr_renovated  zipcode      lat  \\\n",
       "10468        2510            360      2012             0    98119  47.6291   \n",
       "15039        2610              0      2006             0    98125  47.7175   \n",
       "19215        3940           2550      1991             0    98040  47.5728   \n",
       "4486         4580              0      2004             0    98075  47.5682   \n",
       "12613        2290           1200      1968             0    98074  47.6092   \n",
       "\n",
       "          long  sqft_living15  sqft_lot15  \n",
       "10468 -122.363           2870        6354  \n",
       "15039 -122.278           2590       12958  \n",
       "19215 -122.205           3290       14080  \n",
       "4486  -122.059           2710        4443  \n",
       "12613 -122.073           1780       15244  \n",
       "\n",
       "[5 rows x 21 columns]"
      ]
     },
     "execution_count": 33,
     "metadata": {},
     "output_type": "execute_result"
    }
   ],
   "source": [
    "#Data Cleaning\n",
    "valid_king_county.head()"
   ]
  },
  {
   "cell_type": "code",
   "execution_count": 35,
   "id": "94c9f1fc",
   "metadata": {},
   "outputs": [],
   "source": [
    "valid_king_county = valid_king_county.drop('id', axis = 1)"
   ]
  },
  {
   "cell_type": "code",
   "execution_count": 36,
   "id": "2057ec7e",
   "metadata": {},
   "outputs": [
    {
     "data": {
      "text/html": [
       "<div>\n",
       "<style scoped>\n",
       "    .dataframe tbody tr th:only-of-type {\n",
       "        vertical-align: middle;\n",
       "    }\n",
       "\n",
       "    .dataframe tbody tr th {\n",
       "        vertical-align: top;\n",
       "    }\n",
       "\n",
       "    .dataframe thead th {\n",
       "        text-align: right;\n",
       "    }\n",
       "</style>\n",
       "<table border=\"1\" class=\"dataframe\">\n",
       "  <thead>\n",
       "    <tr style=\"text-align: right;\">\n",
       "      <th></th>\n",
       "      <th>date</th>\n",
       "      <th>price</th>\n",
       "      <th>bedrooms</th>\n",
       "      <th>bathrooms</th>\n",
       "      <th>sqft_living</th>\n",
       "      <th>sqft_lot</th>\n",
       "      <th>floors</th>\n",
       "      <th>waterfront</th>\n",
       "      <th>view</th>\n",
       "      <th>condition</th>\n",
       "      <th>grade</th>\n",
       "      <th>sqft_above</th>\n",
       "      <th>sqft_basement</th>\n",
       "      <th>yr_built</th>\n",
       "      <th>yr_renovated</th>\n",
       "      <th>zipcode</th>\n",
       "      <th>lat</th>\n",
       "      <th>long</th>\n",
       "      <th>sqft_living15</th>\n",
       "      <th>sqft_lot15</th>\n",
       "    </tr>\n",
       "  </thead>\n",
       "  <tbody>\n",
       "    <tr>\n",
       "      <th>10468</th>\n",
       "      <td>20150302T000000</td>\n",
       "      <td>2000000.0</td>\n",
       "      <td>4</td>\n",
       "      <td>3.75</td>\n",
       "      <td>2870</td>\n",
       "      <td>4500</td>\n",
       "      <td>2.0</td>\n",
       "      <td>0</td>\n",
       "      <td>3</td>\n",
       "      <td>3</td>\n",
       "      <td>10</td>\n",
       "      <td>2510</td>\n",
       "      <td>360</td>\n",
       "      <td>2012</td>\n",
       "      <td>0</td>\n",
       "      <td>98119</td>\n",
       "      <td>47.6291</td>\n",
       "      <td>-122.363</td>\n",
       "      <td>2870</td>\n",
       "      <td>6354</td>\n",
       "    </tr>\n",
       "    <tr>\n",
       "      <th>15039</th>\n",
       "      <td>20141110T000000</td>\n",
       "      <td>2000000.0</td>\n",
       "      <td>3</td>\n",
       "      <td>3.25</td>\n",
       "      <td>2610</td>\n",
       "      <td>16387</td>\n",
       "      <td>2.0</td>\n",
       "      <td>1</td>\n",
       "      <td>4</td>\n",
       "      <td>3</td>\n",
       "      <td>9</td>\n",
       "      <td>2610</td>\n",
       "      <td>0</td>\n",
       "      <td>2006</td>\n",
       "      <td>0</td>\n",
       "      <td>98125</td>\n",
       "      <td>47.7175</td>\n",
       "      <td>-122.278</td>\n",
       "      <td>2590</td>\n",
       "      <td>12958</td>\n",
       "    </tr>\n",
       "    <tr>\n",
       "      <th>19215</th>\n",
       "      <td>20140516T000000</td>\n",
       "      <td>2000000.0</td>\n",
       "      <td>5</td>\n",
       "      <td>4.25</td>\n",
       "      <td>6490</td>\n",
       "      <td>10862</td>\n",
       "      <td>2.0</td>\n",
       "      <td>0</td>\n",
       "      <td>3</td>\n",
       "      <td>4</td>\n",
       "      <td>11</td>\n",
       "      <td>3940</td>\n",
       "      <td>2550</td>\n",
       "      <td>1991</td>\n",
       "      <td>0</td>\n",
       "      <td>98040</td>\n",
       "      <td>47.5728</td>\n",
       "      <td>-122.205</td>\n",
       "      <td>3290</td>\n",
       "      <td>14080</td>\n",
       "    </tr>\n",
       "    <tr>\n",
       "      <th>4486</th>\n",
       "      <td>20140524T000000</td>\n",
       "      <td>2000000.0</td>\n",
       "      <td>5</td>\n",
       "      <td>4.00</td>\n",
       "      <td>4580</td>\n",
       "      <td>4443</td>\n",
       "      <td>3.0</td>\n",
       "      <td>1</td>\n",
       "      <td>4</td>\n",
       "      <td>3</td>\n",
       "      <td>10</td>\n",
       "      <td>4580</td>\n",
       "      <td>0</td>\n",
       "      <td>2004</td>\n",
       "      <td>0</td>\n",
       "      <td>98075</td>\n",
       "      <td>47.5682</td>\n",
       "      <td>-122.059</td>\n",
       "      <td>2710</td>\n",
       "      <td>4443</td>\n",
       "    </tr>\n",
       "    <tr>\n",
       "      <th>12613</th>\n",
       "      <td>20150422T000000</td>\n",
       "      <td>2000000.0</td>\n",
       "      <td>3</td>\n",
       "      <td>2.50</td>\n",
       "      <td>3490</td>\n",
       "      <td>21064</td>\n",
       "      <td>1.0</td>\n",
       "      <td>1</td>\n",
       "      <td>4</td>\n",
       "      <td>3</td>\n",
       "      <td>10</td>\n",
       "      <td>2290</td>\n",
       "      <td>1200</td>\n",
       "      <td>1968</td>\n",
       "      <td>0</td>\n",
       "      <td>98074</td>\n",
       "      <td>47.6092</td>\n",
       "      <td>-122.073</td>\n",
       "      <td>1780</td>\n",
       "      <td>15244</td>\n",
       "    </tr>\n",
       "  </tbody>\n",
       "</table>\n",
       "</div>"
      ],
      "text/plain": [
       "                  date      price  bedrooms  bathrooms  sqft_living  sqft_lot  \\\n",
       "10468  20150302T000000  2000000.0         4       3.75         2870      4500   \n",
       "15039  20141110T000000  2000000.0         3       3.25         2610     16387   \n",
       "19215  20140516T000000  2000000.0         5       4.25         6490     10862   \n",
       "4486   20140524T000000  2000000.0         5       4.00         4580      4443   \n",
       "12613  20150422T000000  2000000.0         3       2.50         3490     21064   \n",
       "\n",
       "       floors  waterfront  view  condition  grade  sqft_above  sqft_basement  \\\n",
       "10468     2.0           0     3          3     10        2510            360   \n",
       "15039     2.0           1     4          3      9        2610              0   \n",
       "19215     2.0           0     3          4     11        3940           2550   \n",
       "4486      3.0           1     4          3     10        4580              0   \n",
       "12613     1.0           1     4          3     10        2290           1200   \n",
       "\n",
       "       yr_built  yr_renovated  zipcode      lat     long  sqft_living15  \\\n",
       "10468      2012             0    98119  47.6291 -122.363           2870   \n",
       "15039      2006             0    98125  47.7175 -122.278           2590   \n",
       "19215      1991             0    98040  47.5728 -122.205           3290   \n",
       "4486       2004             0    98075  47.5682 -122.059           2710   \n",
       "12613      1968             0    98074  47.6092 -122.073           1780   \n",
       "\n",
       "       sqft_lot15  \n",
       "10468        6354  \n",
       "15039       12958  \n",
       "19215       14080  \n",
       "4486         4443  \n",
       "12613       15244  "
      ]
     },
     "execution_count": 36,
     "metadata": {},
     "output_type": "execute_result"
    }
   ],
   "source": [
    "valid_king_county.head()"
   ]
  },
  {
   "cell_type": "code",
   "execution_count": 42,
   "id": "672268da",
   "metadata": {},
   "outputs": [
    {
     "data": {
      "text/plain": [
       "0       20531\n",
       "2014       91\n",
       "2013       36\n",
       "2000       34\n",
       "2007       34\n",
       "        ...  \n",
       "1934        1\n",
       "1954        1\n",
       "1948        1\n",
       "1959        1\n",
       "1951        1\n",
       "Name: yr_renovated, Length: 70, dtype: int64"
      ]
     },
     "execution_count": 42,
     "metadata": {},
     "output_type": "execute_result"
    }
   ],
   "source": [
    "valid_king_county['yr_renovated'].value_counts(ascending=False)"
   ]
  },
  {
   "cell_type": "code",
   "execution_count": 44,
   "id": "6dc98d30",
   "metadata": {},
   "outputs": [
    {
     "data": {
      "text/plain": [
       "21413"
      ]
     },
     "execution_count": 44,
     "metadata": {},
     "output_type": "execute_result"
    }
   ],
   "source": [
    "valid_king_county['yr_renovated'].count()"
   ]
  },
  {
   "cell_type": "code",
   "execution_count": 47,
   "id": "03028c1d",
   "metadata": {},
   "outputs": [
    {
     "data": {
      "text/plain": [
       "<AxesSubplot:xlabel='yr_renovated', ylabel='price'>"
      ]
     },
     "execution_count": 47,
     "metadata": {},
     "output_type": "execute_result"
    },
    {
     "data": {
      "image/png": "[encoded data removed]",
      "text/plain": [
       "<Figure size 1800x1080 with 1 Axes>"
      ]
     },
     "metadata": {
      "needs_background": "light"
     },
     "output_type": "display_data"
    }
   ],
   "source": [
    "plt.figure(figsize=(25,15))\n",
    "sns.boxplot(data = valid_king_county, x='yr_renovated', y='price')"
   ]
  },
  {
   "cell_type": "code",
   "execution_count": 48,
   "id": "cd748b81",
   "metadata": {},
   "outputs": [],
   "source": [
    "#year of reinnovation\n",
    "#As the only few houses are reinnovated in whole data set we can drop the column but as the data in the columns still can be used which out any dumies we are keepign it as it as"
   ]
  },
  {
   "cell_type": "code",
   "execution_count": 49,
   "id": "d6966799",
   "metadata": {},
   "outputs": [
    {
     "data": {
      "text/html": [
       "<div>\n",
       "<style scoped>\n",
       "    .dataframe tbody tr th:only-of-type {\n",
       "        vertical-align: middle;\n",
       "    }\n",
       "\n",
       "    .dataframe tbody tr th {\n",
       "        vertical-align: top;\n",
       "    }\n",
       "\n",
       "    .dataframe thead th {\n",
       "        text-align: right;\n",
       "    }\n",
       "</style>\n",
       "<table border=\"1\" class=\"dataframe\">\n",
       "  <thead>\n",
       "    <tr style=\"text-align: right;\">\n",
       "      <th></th>\n",
       "      <th>date</th>\n",
       "      <th>price</th>\n",
       "      <th>bedrooms</th>\n",
       "      <th>bathrooms</th>\n",
       "      <th>sqft_living</th>\n",
       "      <th>sqft_lot</th>\n",
       "      <th>floors</th>\n",
       "      <th>waterfront</th>\n",
       "      <th>view</th>\n",
       "      <th>condition</th>\n",
       "      <th>grade</th>\n",
       "      <th>sqft_above</th>\n",
       "      <th>sqft_basement</th>\n",
       "      <th>yr_built</th>\n",
       "      <th>yr_renovated</th>\n",
       "      <th>zipcode</th>\n",
       "      <th>lat</th>\n",
       "      <th>long</th>\n",
       "      <th>sqft_living15</th>\n",
       "      <th>sqft_lot15</th>\n",
       "    </tr>\n",
       "  </thead>\n",
       "  <tbody>\n",
       "    <tr>\n",
       "      <th>10468</th>\n",
       "      <td>20150302T000000</td>\n",
       "      <td>2000000.0</td>\n",
       "      <td>4</td>\n",
       "      <td>3.75</td>\n",
       "      <td>2870</td>\n",
       "      <td>4500</td>\n",
       "      <td>2.0</td>\n",
       "      <td>0</td>\n",
       "      <td>3</td>\n",
       "      <td>3</td>\n",
       "      <td>10</td>\n",
       "      <td>2510</td>\n",
       "      <td>360</td>\n",
       "      <td>2012</td>\n",
       "      <td>0</td>\n",
       "      <td>98119</td>\n",
       "      <td>47.6291</td>\n",
       "      <td>-122.363</td>\n",
       "      <td>2870</td>\n",
       "      <td>6354</td>\n",
       "    </tr>\n",
       "    <tr>\n",
       "      <th>15039</th>\n",
       "      <td>20141110T000000</td>\n",
       "      <td>2000000.0</td>\n",
       "      <td>3</td>\n",
       "      <td>3.25</td>\n",
       "      <td>2610</td>\n",
       "      <td>16387</td>\n",
       "      <td>2.0</td>\n",
       "      <td>1</td>\n",
       "      <td>4</td>\n",
       "      <td>3</td>\n",
       "      <td>9</td>\n",
       "      <td>2610</td>\n",
       "      <td>0</td>\n",
       "      <td>2006</td>\n",
       "      <td>0</td>\n",
       "      <td>98125</td>\n",
       "      <td>47.7175</td>\n",
       "      <td>-122.278</td>\n",
       "      <td>2590</td>\n",
       "      <td>12958</td>\n",
       "    </tr>\n",
       "    <tr>\n",
       "      <th>19215</th>\n",
       "      <td>20140516T000000</td>\n",
       "      <td>2000000.0</td>\n",
       "      <td>5</td>\n",
       "      <td>4.25</td>\n",
       "      <td>6490</td>\n",
       "      <td>10862</td>\n",
       "      <td>2.0</td>\n",
       "      <td>0</td>\n",
       "      <td>3</td>\n",
       "      <td>4</td>\n",
       "      <td>11</td>\n",
       "      <td>3940</td>\n",
       "      <td>2550</td>\n",
       "      <td>1991</td>\n",
       "      <td>0</td>\n",
       "      <td>98040</td>\n",
       "      <td>47.5728</td>\n",
       "      <td>-122.205</td>\n",
       "      <td>3290</td>\n",
       "      <td>14080</td>\n",
       "    </tr>\n",
       "    <tr>\n",
       "      <th>4486</th>\n",
       "      <td>20140524T000000</td>\n",
       "      <td>2000000.0</td>\n",
       "      <td>5</td>\n",
       "      <td>4.00</td>\n",
       "      <td>4580</td>\n",
       "      <td>4443</td>\n",
       "      <td>3.0</td>\n",
       "      <td>1</td>\n",
       "      <td>4</td>\n",
       "      <td>3</td>\n",
       "      <td>10</td>\n",
       "      <td>4580</td>\n",
       "      <td>0</td>\n",
       "      <td>2004</td>\n",
       "      <td>0</td>\n",
       "      <td>98075</td>\n",
       "      <td>47.5682</td>\n",
       "      <td>-122.059</td>\n",
       "      <td>2710</td>\n",
       "      <td>4443</td>\n",
       "    </tr>\n",
       "    <tr>\n",
       "      <th>12613</th>\n",
       "      <td>20150422T000000</td>\n",
       "      <td>2000000.0</td>\n",
       "      <td>3</td>\n",
       "      <td>2.50</td>\n",
       "      <td>3490</td>\n",
       "      <td>21064</td>\n",
       "      <td>1.0</td>\n",
       "      <td>1</td>\n",
       "      <td>4</td>\n",
       "      <td>3</td>\n",
       "      <td>10</td>\n",
       "      <td>2290</td>\n",
       "      <td>1200</td>\n",
       "      <td>1968</td>\n",
       "      <td>0</td>\n",
       "      <td>98074</td>\n",
       "      <td>47.6092</td>\n",
       "      <td>-122.073</td>\n",
       "      <td>1780</td>\n",
       "      <td>15244</td>\n",
       "    </tr>\n",
       "  </tbody>\n",
       "</table>\n",
       "</div>"
      ],
      "text/plain": [
       "                  date      price  bedrooms  bathrooms  sqft_living  sqft_lot  \\\n",
       "10468  20150302T000000  2000000.0         4       3.75         2870      4500   \n",
       "15039  20141110T000000  2000000.0         3       3.25         2610     16387   \n",
       "19215  20140516T000000  2000000.0         5       4.25         6490     10862   \n",
       "4486   20140524T000000  2000000.0         5       4.00         4580      4443   \n",
       "12613  20150422T000000  2000000.0         3       2.50         3490     21064   \n",
       "\n",
       "       floors  waterfront  view  condition  grade  sqft_above  sqft_basement  \\\n",
       "10468     2.0           0     3          3     10        2510            360   \n",
       "15039     2.0           1     4          3      9        2610              0   \n",
       "19215     2.0           0     3          4     11        3940           2550   \n",
       "4486      3.0           1     4          3     10        4580              0   \n",
       "12613     1.0           1     4          3     10        2290           1200   \n",
       "\n",
       "       yr_built  yr_renovated  zipcode      lat     long  sqft_living15  \\\n",
       "10468      2012             0    98119  47.6291 -122.363           2870   \n",
       "15039      2006             0    98125  47.7175 -122.278           2590   \n",
       "19215      1991             0    98040  47.5728 -122.205           3290   \n",
       "4486       2004             0    98075  47.5682 -122.059           2710   \n",
       "12613      1968             0    98074  47.6092 -122.073           1780   \n",
       "\n",
       "       sqft_lot15  \n",
       "10468        6354  \n",
       "15039       12958  \n",
       "19215       14080  \n",
       "4486         4443  \n",
       "12613       15244  "
      ]
     },
     "execution_count": 49,
     "metadata": {},
     "output_type": "execute_result"
    }
   ],
   "source": [
    "valid_king_county.head()"
   ]
  },
  {
   "cell_type": "code",
   "execution_count": null,
   "id": "8e9eabae",
   "metadata": {},
   "outputs": [],
   "source": [
    "apply(lambda dt : datetime.date(dt))"
   ]
  },
  {
   "cell_type": "code",
   "execution_count": 63,
   "id": "9b49ae18",
   "metadata": {},
   "outputs": [
    {
     "data": {
      "text/plain": [
       "Timestamp('2014-10-13 00:00:00')"
      ]
     },
     "execution_count": 63,
     "metadata": {},
     "output_type": "execute_result"
    }
   ],
   "source": [
    "pd.to_datetime('20141013T000000')"
   ]
  },
  {
   "cell_type": "code",
   "execution_count": 65,
   "id": "d686b2cc",
   "metadata": {},
   "outputs": [],
   "source": [
    "valid_king_county['date'] = valid_king_county['date'].apply(lambda dt : pd.to_datetime(dt))"
   ]
  },
  {
   "cell_type": "code",
   "execution_count": 66,
   "id": "042b88b7",
   "metadata": {},
   "outputs": [
    {
     "data": {
      "text/html": [
       "<div>\n",
       "<style scoped>\n",
       "    .dataframe tbody tr th:only-of-type {\n",
       "        vertical-align: middle;\n",
       "    }\n",
       "\n",
       "    .dataframe tbody tr th {\n",
       "        vertical-align: top;\n",
       "    }\n",
       "\n",
       "    .dataframe thead th {\n",
       "        text-align: right;\n",
       "    }\n",
       "</style>\n",
       "<table border=\"1\" class=\"dataframe\">\n",
       "  <thead>\n",
       "    <tr style=\"text-align: right;\">\n",
       "      <th></th>\n",
       "      <th>date</th>\n",
       "      <th>price</th>\n",
       "      <th>bedrooms</th>\n",
       "      <th>bathrooms</th>\n",
       "      <th>sqft_living</th>\n",
       "      <th>sqft_lot</th>\n",
       "      <th>floors</th>\n",
       "      <th>waterfront</th>\n",
       "      <th>view</th>\n",
       "      <th>condition</th>\n",
       "      <th>grade</th>\n",
       "      <th>sqft_above</th>\n",
       "      <th>sqft_basement</th>\n",
       "      <th>yr_built</th>\n",
       "      <th>yr_renovated</th>\n",
       "      <th>zipcode</th>\n",
       "      <th>lat</th>\n",
       "      <th>long</th>\n",
       "      <th>sqft_living15</th>\n",
       "      <th>sqft_lot15</th>\n",
       "    </tr>\n",
       "  </thead>\n",
       "  <tbody>\n",
       "    <tr>\n",
       "      <th>10468</th>\n",
       "      <td>2015-03-02</td>\n",
       "      <td>2000000.0</td>\n",
       "      <td>4</td>\n",
       "      <td>3.75</td>\n",
       "      <td>2870</td>\n",
       "      <td>4500</td>\n",
       "      <td>2.0</td>\n",
       "      <td>0</td>\n",
       "      <td>3</td>\n",
       "      <td>3</td>\n",
       "      <td>10</td>\n",
       "      <td>2510</td>\n",
       "      <td>360</td>\n",
       "      <td>2012</td>\n",
       "      <td>0</td>\n",
       "      <td>98119</td>\n",
       "      <td>47.6291</td>\n",
       "      <td>-122.363</td>\n",
       "      <td>2870</td>\n",
       "      <td>6354</td>\n",
       "    </tr>\n",
       "    <tr>\n",
       "      <th>15039</th>\n",
       "      <td>2014-11-10</td>\n",
       "      <td>2000000.0</td>\n",
       "      <td>3</td>\n",
       "      <td>3.25</td>\n",
       "      <td>2610</td>\n",
       "      <td>16387</td>\n",
       "      <td>2.0</td>\n",
       "      <td>1</td>\n",
       "      <td>4</td>\n",
       "      <td>3</td>\n",
       "      <td>9</td>\n",
       "      <td>2610</td>\n",
       "      <td>0</td>\n",
       "      <td>2006</td>\n",
       "      <td>0</td>\n",
       "      <td>98125</td>\n",
       "      <td>47.7175</td>\n",
       "      <td>-122.278</td>\n",
       "      <td>2590</td>\n",
       "      <td>12958</td>\n",
       "    </tr>\n",
       "    <tr>\n",
       "      <th>19215</th>\n",
       "      <td>2014-05-16</td>\n",
       "      <td>2000000.0</td>\n",
       "      <td>5</td>\n",
       "      <td>4.25</td>\n",
       "      <td>6490</td>\n",
       "      <td>10862</td>\n",
       "      <td>2.0</td>\n",
       "      <td>0</td>\n",
       "      <td>3</td>\n",
       "      <td>4</td>\n",
       "      <td>11</td>\n",
       "      <td>3940</td>\n",
       "      <td>2550</td>\n",
       "      <td>1991</td>\n",
       "      <td>0</td>\n",
       "      <td>98040</td>\n",
       "      <td>47.5728</td>\n",
       "      <td>-122.205</td>\n",
       "      <td>3290</td>\n",
       "      <td>14080</td>\n",
       "    </tr>\n",
       "    <tr>\n",
       "      <th>4486</th>\n",
       "      <td>2014-05-24</td>\n",
       "      <td>2000000.0</td>\n",
       "      <td>5</td>\n",
       "      <td>4.00</td>\n",
       "      <td>4580</td>\n",
       "      <td>4443</td>\n",
       "      <td>3.0</td>\n",
       "      <td>1</td>\n",
       "      <td>4</td>\n",
       "      <td>3</td>\n",
       "      <td>10</td>\n",
       "      <td>4580</td>\n",
       "      <td>0</td>\n",
       "      <td>2004</td>\n",
       "      <td>0</td>\n",
       "      <td>98075</td>\n",
       "      <td>47.5682</td>\n",
       "      <td>-122.059</td>\n",
       "      <td>2710</td>\n",
       "      <td>4443</td>\n",
       "    </tr>\n",
       "    <tr>\n",
       "      <th>12613</th>\n",
       "      <td>2015-04-22</td>\n",
       "      <td>2000000.0</td>\n",
       "      <td>3</td>\n",
       "      <td>2.50</td>\n",
       "      <td>3490</td>\n",
       "      <td>21064</td>\n",
       "      <td>1.0</td>\n",
       "      <td>1</td>\n",
       "      <td>4</td>\n",
       "      <td>3</td>\n",
       "      <td>10</td>\n",
       "      <td>2290</td>\n",
       "      <td>1200</td>\n",
       "      <td>1968</td>\n",
       "      <td>0</td>\n",
       "      <td>98074</td>\n",
       "      <td>47.6092</td>\n",
       "      <td>-122.073</td>\n",
       "      <td>1780</td>\n",
       "      <td>15244</td>\n",
       "    </tr>\n",
       "  </tbody>\n",
       "</table>\n",
       "</div>"
      ],
      "text/plain": [
       "            date      price  bedrooms  bathrooms  sqft_living  sqft_lot  \\\n",
       "10468 2015-03-02  2000000.0         4       3.75         2870      4500   \n",
       "15039 2014-11-10  2000000.0         3       3.25         2610     16387   \n",
       "19215 2014-05-16  2000000.0         5       4.25         6490     10862   \n",
       "4486  2014-05-24  2000000.0         5       4.00         4580      4443   \n",
       "12613 2015-04-22  2000000.0         3       2.50         3490     21064   \n",
       "\n",
       "       floors  waterfront  view  condition  grade  sqft_above  sqft_basement  \\\n",
       "10468     2.0           0     3          3     10        2510            360   \n",
       "15039     2.0           1     4          3      9        2610              0   \n",
       "19215     2.0           0     3          4     11        3940           2550   \n",
       "4486      3.0           1     4          3     10        4580              0   \n",
       "12613     1.0           1     4          3     10        2290           1200   \n",
       "\n",
       "       yr_built  yr_renovated  zipcode      lat     long  sqft_living15  \\\n",
       "10468      2012             0    98119  47.6291 -122.363           2870   \n",
       "15039      2006             0    98125  47.7175 -122.278           2590   \n",
       "19215      1991             0    98040  47.5728 -122.205           3290   \n",
       "4486       2004             0    98075  47.5682 -122.059           2710   \n",
       "12613      1968             0    98074  47.6092 -122.073           1780   \n",
       "\n",
       "       sqft_lot15  \n",
       "10468        6354  \n",
       "15039       12958  \n",
       "19215       14080  \n",
       "4486         4443  \n",
       "12613       15244  "
      ]
     },
     "execution_count": 66,
     "metadata": {},
     "output_type": "execute_result"
    }
   ],
   "source": [
    "valid_king_county.head()"
   ]
  },
  {
   "cell_type": "code",
   "execution_count": 73,
   "id": "60043a3b",
   "metadata": {},
   "outputs": [
    {
     "data": {
      "text/plain": [
       "10"
      ]
     },
     "execution_count": 73,
     "metadata": {},
     "output_type": "execute_result"
    }
   ],
   "source": [
    "valid_king_county['date'][0].month"
   ]
  },
  {
   "cell_type": "code",
   "execution_count": 74,
   "id": "4b5d82e0",
   "metadata": {},
   "outputs": [],
   "source": [
    "valid_king_county['month'] = valid_king_county['date'].apply(lambda dt : dt.month)\n",
    "valid_king_county['year'] = valid_king_county['date'].apply(lambda dt : dt.year)"
   ]
  },
  {
   "cell_type": "code",
   "execution_count": 75,
   "id": "e8698e05",
   "metadata": {},
   "outputs": [
    {
     "data": {
      "text/html": [
       "<div>\n",
       "<style scoped>\n",
       "    .dataframe tbody tr th:only-of-type {\n",
       "        vertical-align: middle;\n",
       "    }\n",
       "\n",
       "    .dataframe tbody tr th {\n",
       "        vertical-align: top;\n",
       "    }\n",
       "\n",
       "    .dataframe thead th {\n",
       "        text-align: right;\n",
       "    }\n",
       "</style>\n",
       "<table border=\"1\" class=\"dataframe\">\n",
       "  <thead>\n",
       "    <tr style=\"text-align: right;\">\n",
       "      <th></th>\n",
       "      <th>date</th>\n",
       "      <th>price</th>\n",
       "      <th>bedrooms</th>\n",
       "      <th>bathrooms</th>\n",
       "      <th>sqft_living</th>\n",
       "      <th>sqft_lot</th>\n",
       "      <th>floors</th>\n",
       "      <th>waterfront</th>\n",
       "      <th>view</th>\n",
       "      <th>condition</th>\n",
       "      <th>...</th>\n",
       "      <th>sqft_basement</th>\n",
       "      <th>yr_built</th>\n",
       "      <th>yr_renovated</th>\n",
       "      <th>zipcode</th>\n",
       "      <th>lat</th>\n",
       "      <th>long</th>\n",
       "      <th>sqft_living15</th>\n",
       "      <th>sqft_lot15</th>\n",
       "      <th>month</th>\n",
       "      <th>year</th>\n",
       "    </tr>\n",
       "  </thead>\n",
       "  <tbody>\n",
       "    <tr>\n",
       "      <th>10468</th>\n",
       "      <td>2015-03-02</td>\n",
       "      <td>2000000.0</td>\n",
       "      <td>4</td>\n",
       "      <td>3.75</td>\n",
       "      <td>2870</td>\n",
       "      <td>4500</td>\n",
       "      <td>2.0</td>\n",
       "      <td>0</td>\n",
       "      <td>3</td>\n",
       "      <td>3</td>\n",
       "      <td>...</td>\n",
       "      <td>360</td>\n",
       "      <td>2012</td>\n",
       "      <td>0</td>\n",
       "      <td>98119</td>\n",
       "      <td>47.6291</td>\n",
       "      <td>-122.363</td>\n",
       "      <td>2870</td>\n",
       "      <td>6354</td>\n",
       "      <td>3</td>\n",
       "      <td>2015</td>\n",
       "    </tr>\n",
       "    <tr>\n",
       "      <th>15039</th>\n",
       "      <td>2014-11-10</td>\n",
       "      <td>2000000.0</td>\n",
       "      <td>3</td>\n",
       "      <td>3.25</td>\n",
       "      <td>2610</td>\n",
       "      <td>16387</td>\n",
       "      <td>2.0</td>\n",
       "      <td>1</td>\n",
       "      <td>4</td>\n",
       "      <td>3</td>\n",
       "      <td>...</td>\n",
       "      <td>0</td>\n",
       "      <td>2006</td>\n",
       "      <td>0</td>\n",
       "      <td>98125</td>\n",
       "      <td>47.7175</td>\n",
       "      <td>-122.278</td>\n",
       "      <td>2590</td>\n",
       "      <td>12958</td>\n",
       "      <td>11</td>\n",
       "      <td>2014</td>\n",
       "    </tr>\n",
       "    <tr>\n",
       "      <th>19215</th>\n",
       "      <td>2014-05-16</td>\n",
       "      <td>2000000.0</td>\n",
       "      <td>5</td>\n",
       "      <td>4.25</td>\n",
       "      <td>6490</td>\n",
       "      <td>10862</td>\n",
       "      <td>2.0</td>\n",
       "      <td>0</td>\n",
       "      <td>3</td>\n",
       "      <td>4</td>\n",
       "      <td>...</td>\n",
       "      <td>2550</td>\n",
       "      <td>1991</td>\n",
       "      <td>0</td>\n",
       "      <td>98040</td>\n",
       "      <td>47.5728</td>\n",
       "      <td>-122.205</td>\n",
       "      <td>3290</td>\n",
       "      <td>14080</td>\n",
       "      <td>5</td>\n",
       "      <td>2014</td>\n",
       "    </tr>\n",
       "    <tr>\n",
       "      <th>4486</th>\n",
       "      <td>2014-05-24</td>\n",
       "      <td>2000000.0</td>\n",
       "      <td>5</td>\n",
       "      <td>4.00</td>\n",
       "      <td>4580</td>\n",
       "      <td>4443</td>\n",
       "      <td>3.0</td>\n",
       "      <td>1</td>\n",
       "      <td>4</td>\n",
       "      <td>3</td>\n",
       "      <td>...</td>\n",
       "      <td>0</td>\n",
       "      <td>2004</td>\n",
       "      <td>0</td>\n",
       "      <td>98075</td>\n",
       "      <td>47.5682</td>\n",
       "      <td>-122.059</td>\n",
       "      <td>2710</td>\n",
       "      <td>4443</td>\n",
       "      <td>5</td>\n",
       "      <td>2014</td>\n",
       "    </tr>\n",
       "    <tr>\n",
       "      <th>12613</th>\n",
       "      <td>2015-04-22</td>\n",
       "      <td>2000000.0</td>\n",
       "      <td>3</td>\n",
       "      <td>2.50</td>\n",
       "      <td>3490</td>\n",
       "      <td>21064</td>\n",
       "      <td>1.0</td>\n",
       "      <td>1</td>\n",
       "      <td>4</td>\n",
       "      <td>3</td>\n",
       "      <td>...</td>\n",
       "      <td>1200</td>\n",
       "      <td>1968</td>\n",
       "      <td>0</td>\n",
       "      <td>98074</td>\n",
       "      <td>47.6092</td>\n",
       "      <td>-122.073</td>\n",
       "      <td>1780</td>\n",
       "      <td>15244</td>\n",
       "      <td>4</td>\n",
       "      <td>2015</td>\n",
       "    </tr>\n",
       "  </tbody>\n",
       "</table>\n",
       "<p>5 rows × 22 columns</p>\n",
       "</div>"
      ],
      "text/plain": [
       "            date      price  bedrooms  bathrooms  sqft_living  sqft_lot  \\\n",
       "10468 2015-03-02  2000000.0         4       3.75         2870      4500   \n",
       "15039 2014-11-10  2000000.0         3       3.25         2610     16387   \n",
       "19215 2014-05-16  2000000.0         5       4.25         6490     10862   \n",
       "4486  2014-05-24  2000000.0         5       4.00         4580      4443   \n",
       "12613 2015-04-22  2000000.0         3       2.50         3490     21064   \n",
       "\n",
       "       floors  waterfront  view  condition  ...  sqft_basement  yr_built  \\\n",
       "10468     2.0           0     3          3  ...            360      2012   \n",
       "15039     2.0           1     4          3  ...              0      2006   \n",
       "19215     2.0           0     3          4  ...           2550      1991   \n",
       "4486      3.0           1     4          3  ...              0      2004   \n",
       "12613     1.0           1     4          3  ...           1200      1968   \n",
       "\n",
       "       yr_renovated  zipcode      lat     long  sqft_living15  sqft_lot15  \\\n",
       "10468             0    98119  47.6291 -122.363           2870        6354   \n",
       "15039             0    98125  47.7175 -122.278           2590       12958   \n",
       "19215             0    98040  47.5728 -122.205           3290       14080   \n",
       "4486              0    98075  47.5682 -122.059           2710        4443   \n",
       "12613             0    98074  47.6092 -122.073           1780       15244   \n",
       "\n",
       "       month  year  \n",
       "10468      3  2015  \n",
       "15039     11  2014  \n",
       "19215      5  2014  \n",
       "4486       5  2014  \n",
       "12613      4  2015  \n",
       "\n",
       "[5 rows x 22 columns]"
      ]
     },
     "execution_count": 75,
     "metadata": {},
     "output_type": "execute_result"
    }
   ],
   "source": [
    "valid_king_county.head()"
   ]
  },
  {
   "cell_type": "code",
   "execution_count": 77,
   "id": "36934826",
   "metadata": {},
   "outputs": [],
   "source": [
    "valid_king_county = valid_king_county.drop('date', axis=1)"
   ]
  },
  {
   "cell_type": "code",
   "execution_count": 78,
   "id": "ab25c505",
   "metadata": {},
   "outputs": [
    {
     "data": {
      "text/html": [
       "<div>\n",
       "<style scoped>\n",
       "    .dataframe tbody tr th:only-of-type {\n",
       "        vertical-align: middle;\n",
       "    }\n",
       "\n",
       "    .dataframe tbody tr th {\n",
       "        vertical-align: top;\n",
       "    }\n",
       "\n",
       "    .dataframe thead th {\n",
       "        text-align: right;\n",
       "    }\n",
       "</style>\n",
       "<table border=\"1\" class=\"dataframe\">\n",
       "  <thead>\n",
       "    <tr style=\"text-align: right;\">\n",
       "      <th></th>\n",
       "      <th>price</th>\n",
       "      <th>bedrooms</th>\n",
       "      <th>bathrooms</th>\n",
       "      <th>sqft_living</th>\n",
       "      <th>sqft_lot</th>\n",
       "      <th>floors</th>\n",
       "      <th>waterfront</th>\n",
       "      <th>view</th>\n",
       "      <th>condition</th>\n",
       "      <th>grade</th>\n",
       "      <th>...</th>\n",
       "      <th>sqft_basement</th>\n",
       "      <th>yr_built</th>\n",
       "      <th>yr_renovated</th>\n",
       "      <th>zipcode</th>\n",
       "      <th>lat</th>\n",
       "      <th>long</th>\n",
       "      <th>sqft_living15</th>\n",
       "      <th>sqft_lot15</th>\n",
       "      <th>month</th>\n",
       "      <th>year</th>\n",
       "    </tr>\n",
       "  </thead>\n",
       "  <tbody>\n",
       "    <tr>\n",
       "      <th>10468</th>\n",
       "      <td>2000000.0</td>\n",
       "      <td>4</td>\n",
       "      <td>3.75</td>\n",
       "      <td>2870</td>\n",
       "      <td>4500</td>\n",
       "      <td>2.0</td>\n",
       "      <td>0</td>\n",
       "      <td>3</td>\n",
       "      <td>3</td>\n",
       "      <td>10</td>\n",
       "      <td>...</td>\n",
       "      <td>360</td>\n",
       "      <td>2012</td>\n",
       "      <td>0</td>\n",
       "      <td>98119</td>\n",
       "      <td>47.6291</td>\n",
       "      <td>-122.363</td>\n",
       "      <td>2870</td>\n",
       "      <td>6354</td>\n",
       "      <td>3</td>\n",
       "      <td>2015</td>\n",
       "    </tr>\n",
       "    <tr>\n",
       "      <th>15039</th>\n",
       "      <td>2000000.0</td>\n",
       "      <td>3</td>\n",
       "      <td>3.25</td>\n",
       "      <td>2610</td>\n",
       "      <td>16387</td>\n",
       "      <td>2.0</td>\n",
       "      <td>1</td>\n",
       "      <td>4</td>\n",
       "      <td>3</td>\n",
       "      <td>9</td>\n",
       "      <td>...</td>\n",
       "      <td>0</td>\n",
       "      <td>2006</td>\n",
       "      <td>0</td>\n",
       "      <td>98125</td>\n",
       "      <td>47.7175</td>\n",
       "      <td>-122.278</td>\n",
       "      <td>2590</td>\n",
       "      <td>12958</td>\n",
       "      <td>11</td>\n",
       "      <td>2014</td>\n",
       "    </tr>\n",
       "    <tr>\n",
       "      <th>19215</th>\n",
       "      <td>2000000.0</td>\n",
       "      <td>5</td>\n",
       "      <td>4.25</td>\n",
       "      <td>6490</td>\n",
       "      <td>10862</td>\n",
       "      <td>2.0</td>\n",
       "      <td>0</td>\n",
       "      <td>3</td>\n",
       "      <td>4</td>\n",
       "      <td>11</td>\n",
       "      <td>...</td>\n",
       "      <td>2550</td>\n",
       "      <td>1991</td>\n",
       "      <td>0</td>\n",
       "      <td>98040</td>\n",
       "      <td>47.5728</td>\n",
       "      <td>-122.205</td>\n",
       "      <td>3290</td>\n",
       "      <td>14080</td>\n",
       "      <td>5</td>\n",
       "      <td>2014</td>\n",
       "    </tr>\n",
       "    <tr>\n",
       "      <th>4486</th>\n",
       "      <td>2000000.0</td>\n",
       "      <td>5</td>\n",
       "      <td>4.00</td>\n",
       "      <td>4580</td>\n",
       "      <td>4443</td>\n",
       "      <td>3.0</td>\n",
       "      <td>1</td>\n",
       "      <td>4</td>\n",
       "      <td>3</td>\n",
       "      <td>10</td>\n",
       "      <td>...</td>\n",
       "      <td>0</td>\n",
       "      <td>2004</td>\n",
       "      <td>0</td>\n",
       "      <td>98075</td>\n",
       "      <td>47.5682</td>\n",
       "      <td>-122.059</td>\n",
       "      <td>2710</td>\n",
       "      <td>4443</td>\n",
       "      <td>5</td>\n",
       "      <td>2014</td>\n",
       "    </tr>\n",
       "    <tr>\n",
       "      <th>12613</th>\n",
       "      <td>2000000.0</td>\n",
       "      <td>3</td>\n",
       "      <td>2.50</td>\n",
       "      <td>3490</td>\n",
       "      <td>21064</td>\n",
       "      <td>1.0</td>\n",
       "      <td>1</td>\n",
       "      <td>4</td>\n",
       "      <td>3</td>\n",
       "      <td>10</td>\n",
       "      <td>...</td>\n",
       "      <td>1200</td>\n",
       "      <td>1968</td>\n",
       "      <td>0</td>\n",
       "      <td>98074</td>\n",
       "      <td>47.6092</td>\n",
       "      <td>-122.073</td>\n",
       "      <td>1780</td>\n",
       "      <td>15244</td>\n",
       "      <td>4</td>\n",
       "      <td>2015</td>\n",
       "    </tr>\n",
       "  </tbody>\n",
       "</table>\n",
       "<p>5 rows × 21 columns</p>\n",
       "</div>"
      ],
      "text/plain": [
       "           price  bedrooms  bathrooms  sqft_living  sqft_lot  floors  \\\n",
       "10468  2000000.0         4       3.75         2870      4500     2.0   \n",
       "15039  2000000.0         3       3.25         2610     16387     2.0   \n",
       "19215  2000000.0         5       4.25         6490     10862     2.0   \n",
       "4486   2000000.0         5       4.00         4580      4443     3.0   \n",
       "12613  2000000.0         3       2.50         3490     21064     1.0   \n",
       "\n",
       "       waterfront  view  condition  grade  ...  sqft_basement  yr_built  \\\n",
       "10468           0     3          3     10  ...            360      2012   \n",
       "15039           1     4          3      9  ...              0      2006   \n",
       "19215           0     3          4     11  ...           2550      1991   \n",
       "4486            1     4          3     10  ...              0      2004   \n",
       "12613           1     4          3     10  ...           1200      1968   \n",
       "\n",
       "       yr_renovated  zipcode      lat     long  sqft_living15  sqft_lot15  \\\n",
       "10468             0    98119  47.6291 -122.363           2870        6354   \n",
       "15039             0    98125  47.7175 -122.278           2590       12958   \n",
       "19215             0    98040  47.5728 -122.205           3290       14080   \n",
       "4486              0    98075  47.5682 -122.059           2710        4443   \n",
       "12613             0    98074  47.6092 -122.073           1780       15244   \n",
       "\n",
       "       month  year  \n",
       "10468      3  2015  \n",
       "15039     11  2014  \n",
       "19215      5  2014  \n",
       "4486       5  2014  \n",
       "12613      4  2015  \n",
       "\n",
       "[5 rows x 21 columns]"
      ]
     },
     "execution_count": 78,
     "metadata": {},
     "output_type": "execute_result"
    }
   ],
   "source": [
    "valid_king_county.head()"
   ]
  },
  {
   "cell_type": "code",
   "execution_count": 92,
   "id": "6cdc3411",
   "metadata": {},
   "outputs": [],
   "source": [
    "#Data Visualisation for months and years VS Price\n",
    "#sns.histplot(data=valid_king_county, x='price', y='month')\n",
    "#sns.boxplot(data=valid_king_county, y='price', x='month')\n"
   ]
  },
  {
   "cell_type": "code",
   "execution_count": 94,
   "id": "ab3fc749",
   "metadata": {},
   "outputs": [
    {
     "data": {
      "image/png": "[encoded data removed]",
      "text/plain": [
       "<Figure size 1080x576 with 1 Axes>"
      ]
     },
     "metadata": {
      "needs_background": "light"
     },
     "output_type": "display_data"
    }
   ],
   "source": [
    "plt.figure(figsize=(15,8))\n",
    "ax = plt.gca()\n",
    "ax.get_xaxis().get_major_formatter().set_scientific(False)\n",
    "ax.get_yaxis().get_major_formatter().set_scientific(False)\n",
    "#plt.hist(king_county['price'])\n",
    "#ax.ticklabel_format(style='plain')\n",
    "\n",
    "sns.boxplot(data=valid_king_county, y='price', x='month')\n",
    "ax.set_xlabel(\"Price\")\n",
    "ax.set_ylabel(\"Count\")\n",
    "ax.set_title(\"King County - Price VS Count\")\n",
    "plt.show()\n"
   ]
  },
  {
   "cell_type": "code",
   "execution_count": 96,
   "id": "165a65a0",
   "metadata": {},
   "outputs": [
    {
     "data": {
      "text/plain": [
       "<AxesSubplot:xlabel='month'>"
      ]
     },
     "execution_count": 96,
     "metadata": {},
     "output_type": "execute_result"
    },
    {
     "data": {
      "image/png": "[encoded data removed]",
      "text/plain": [
       "<Figure size 432x288 with 1 Axes>"
      ]
     },
     "metadata": {
      "needs_background": "light"
     },
     "output_type": "display_data"
    }
   ],
   "source": [
    "valid_king_county.groupby('month').mean()['price'].plot()"
   ]
  },
  {
   "cell_type": "code",
   "execution_count": 93,
   "id": "b573897c",
   "metadata": {},
   "outputs": [
    {
     "data": {
      "image/png": "[encoded data removed]",
      "text/plain": [
       "<Figure size 1080x576 with 1 Axes>"
      ]
     },
     "metadata": {
      "needs_background": "light"
     },
     "output_type": "display_data"
    }
   ],
   "source": [
    "plt.figure(figsize=(15,8))\n",
    "ax = plt.gca()\n",
    "ax.get_xaxis().get_major_formatter().set_scientific(False)\n",
    "ax.get_yaxis().get_major_formatter().set_scientific(False)\n",
    "#plt.hist(king_county['price'])\n",
    "#ax.ticklabel_format(style='plain')\n",
    "\n",
    "sns.boxplot(data=valid_king_county, y='price', x='year')\n",
    "ax.set_xlabel(\"Price\")\n",
    "ax.set_ylabel(\"Count\")\n",
    "ax.set_title(\"King County - Price VS Count\")\n",
    "plt.show()\n"
   ]
  },
  {
   "cell_type": "code",
   "execution_count": 98,
   "id": "ac799f95",
   "metadata": {
    "scrolled": true
   },
   "outputs": [
    {
     "data": {
      "text/plain": [
       "<AxesSubplot:xlabel='year'>"
      ]
     },
     "execution_count": 98,
     "metadata": {},
     "output_type": "execute_result"
    },
    {
     "data": {
      "image/png": "[encoded data removed]",
      "text/plain": [
       "<Figure size 720x432 with 1 Axes>"
      ]
     },
     "metadata": {
      "needs_background": "light"
     },
     "output_type": "display_data"
    }
   ],
   "source": [
    "plt.figure(figsize=(10,6))\n",
    "ax = plt.gca()\n",
    "ax.get_xaxis().get_major_formatter().set_scientific(False)\n",
    "ax.get_yaxis().get_major_formatter().set_scientific(False)\n",
    "valid_king_county.groupby('year').mean()['price'].plot()"
   ]
  },
  {
   "cell_type": "code",
   "execution_count": 104,
   "id": "b75d1ac8",
   "metadata": {},
   "outputs": [],
   "source": [
    "valid_king_county =  valid_king_county.drop('zipcode', axis = 1)"
   ]
  },
  {
   "cell_type": "code",
   "execution_count": 105,
   "id": "9951a71b",
   "metadata": {},
   "outputs": [
    {
     "data": {
      "text/html": [
       "<div>\n",
       "<style scoped>\n",
       "    .dataframe tbody tr th:only-of-type {\n",
       "        vertical-align: middle;\n",
       "    }\n",
       "\n",
       "    .dataframe tbody tr th {\n",
       "        vertical-align: top;\n",
       "    }\n",
       "\n",
       "    .dataframe thead th {\n",
       "        text-align: right;\n",
       "    }\n",
       "</style>\n",
       "<table border=\"1\" class=\"dataframe\">\n",
       "  <thead>\n",
       "    <tr style=\"text-align: right;\">\n",
       "      <th></th>\n",
       "      <th>price</th>\n",
       "      <th>bedrooms</th>\n",
       "      <th>bathrooms</th>\n",
       "      <th>sqft_living</th>\n",
       "      <th>sqft_lot</th>\n",
       "      <th>floors</th>\n",
       "      <th>waterfront</th>\n",
       "      <th>view</th>\n",
       "      <th>condition</th>\n",
       "      <th>grade</th>\n",
       "      <th>sqft_above</th>\n",
       "      <th>sqft_basement</th>\n",
       "      <th>yr_built</th>\n",
       "      <th>yr_renovated</th>\n",
       "      <th>lat</th>\n",
       "      <th>long</th>\n",
       "      <th>sqft_living15</th>\n",
       "      <th>sqft_lot15</th>\n",
       "      <th>month</th>\n",
       "      <th>year</th>\n",
       "    </tr>\n",
       "  </thead>\n",
       "  <tbody>\n",
       "    <tr>\n",
       "      <th>10468</th>\n",
       "      <td>2000000.0</td>\n",
       "      <td>4</td>\n",
       "      <td>3.75</td>\n",
       "      <td>2870</td>\n",
       "      <td>4500</td>\n",
       "      <td>2.0</td>\n",
       "      <td>0</td>\n",
       "      <td>3</td>\n",
       "      <td>3</td>\n",
       "      <td>10</td>\n",
       "      <td>2510</td>\n",
       "      <td>360</td>\n",
       "      <td>2012</td>\n",
       "      <td>0</td>\n",
       "      <td>47.6291</td>\n",
       "      <td>-122.363</td>\n",
       "      <td>2870</td>\n",
       "      <td>6354</td>\n",
       "      <td>3</td>\n",
       "      <td>2015</td>\n",
       "    </tr>\n",
       "    <tr>\n",
       "      <th>15039</th>\n",
       "      <td>2000000.0</td>\n",
       "      <td>3</td>\n",
       "      <td>3.25</td>\n",
       "      <td>2610</td>\n",
       "      <td>16387</td>\n",
       "      <td>2.0</td>\n",
       "      <td>1</td>\n",
       "      <td>4</td>\n",
       "      <td>3</td>\n",
       "      <td>9</td>\n",
       "      <td>2610</td>\n",
       "      <td>0</td>\n",
       "      <td>2006</td>\n",
       "      <td>0</td>\n",
       "      <td>47.7175</td>\n",
       "      <td>-122.278</td>\n",
       "      <td>2590</td>\n",
       "      <td>12958</td>\n",
       "      <td>11</td>\n",
       "      <td>2014</td>\n",
       "    </tr>\n",
       "    <tr>\n",
       "      <th>19215</th>\n",
       "      <td>2000000.0</td>\n",
       "      <td>5</td>\n",
       "      <td>4.25</td>\n",
       "      <td>6490</td>\n",
       "      <td>10862</td>\n",
       "      <td>2.0</td>\n",
       "      <td>0</td>\n",
       "      <td>3</td>\n",
       "      <td>4</td>\n",
       "      <td>11</td>\n",
       "      <td>3940</td>\n",
       "      <td>2550</td>\n",
       "      <td>1991</td>\n",
       "      <td>0</td>\n",
       "      <td>47.5728</td>\n",
       "      <td>-122.205</td>\n",
       "      <td>3290</td>\n",
       "      <td>14080</td>\n",
       "      <td>5</td>\n",
       "      <td>2014</td>\n",
       "    </tr>\n",
       "    <tr>\n",
       "      <th>4486</th>\n",
       "      <td>2000000.0</td>\n",
       "      <td>5</td>\n",
       "      <td>4.00</td>\n",
       "      <td>4580</td>\n",
       "      <td>4443</td>\n",
       "      <td>3.0</td>\n",
       "      <td>1</td>\n",
       "      <td>4</td>\n",
       "      <td>3</td>\n",
       "      <td>10</td>\n",
       "      <td>4580</td>\n",
       "      <td>0</td>\n",
       "      <td>2004</td>\n",
       "      <td>0</td>\n",
       "      <td>47.5682</td>\n",
       "      <td>-122.059</td>\n",
       "      <td>2710</td>\n",
       "      <td>4443</td>\n",
       "      <td>5</td>\n",
       "      <td>2014</td>\n",
       "    </tr>\n",
       "    <tr>\n",
       "      <th>12613</th>\n",
       "      <td>2000000.0</td>\n",
       "      <td>3</td>\n",
       "      <td>2.50</td>\n",
       "      <td>3490</td>\n",
       "      <td>21064</td>\n",
       "      <td>1.0</td>\n",
       "      <td>1</td>\n",
       "      <td>4</td>\n",
       "      <td>3</td>\n",
       "      <td>10</td>\n",
       "      <td>2290</td>\n",
       "      <td>1200</td>\n",
       "      <td>1968</td>\n",
       "      <td>0</td>\n",
       "      <td>47.6092</td>\n",
       "      <td>-122.073</td>\n",
       "      <td>1780</td>\n",
       "      <td>15244</td>\n",
       "      <td>4</td>\n",
       "      <td>2015</td>\n",
       "    </tr>\n",
       "  </tbody>\n",
       "</table>\n",
       "</div>"
      ],
      "text/plain": [
       "           price  bedrooms  bathrooms  sqft_living  sqft_lot  floors  \\\n",
       "10468  2000000.0         4       3.75         2870      4500     2.0   \n",
       "15039  2000000.0         3       3.25         2610     16387     2.0   \n",
       "19215  2000000.0         5       4.25         6490     10862     2.0   \n",
       "4486   2000000.0         5       4.00         4580      4443     3.0   \n",
       "12613  2000000.0         3       2.50         3490     21064     1.0   \n",
       "\n",
       "       waterfront  view  condition  grade  sqft_above  sqft_basement  \\\n",
       "10468           0     3          3     10        2510            360   \n",
       "15039           1     4          3      9        2610              0   \n",
       "19215           0     3          4     11        3940           2550   \n",
       "4486            1     4          3     10        4580              0   \n",
       "12613           1     4          3     10        2290           1200   \n",
       "\n",
       "       yr_built  yr_renovated      lat     long  sqft_living15  sqft_lot15  \\\n",
       "10468      2012             0  47.6291 -122.363           2870        6354   \n",
       "15039      2006             0  47.7175 -122.278           2590       12958   \n",
       "19215      1991             0  47.5728 -122.205           3290       14080   \n",
       "4486       2004             0  47.5682 -122.059           2710        4443   \n",
       "12613      1968             0  47.6092 -122.073           1780       15244   \n",
       "\n",
       "       month  year  \n",
       "10468      3  2015  \n",
       "15039     11  2014  \n",
       "19215      5  2014  \n",
       "4486       5  2014  \n",
       "12613      4  2015  "
      ]
     },
     "execution_count": 105,
     "metadata": {},
     "output_type": "execute_result"
    }
   ],
   "source": [
    "valid_king_county.head()"
   ]
  },
  {
   "cell_type": "markdown",
   "id": "666c103c",
   "metadata": {},
   "source": [
    "# Cerate a keras model and train the data"
   ]
  },
  {
   "cell_type": "code",
   "execution_count": 106,
   "id": "cfa87919",
   "metadata": {},
   "outputs": [],
   "source": [
    "#Split the data into traing set and test set\n",
    "X = valid_king_county.drop('price', axis=1).values\n",
    "y = valid_king_county['price'].values"
   ]
  },
  {
   "cell_type": "code",
   "execution_count": 109,
   "id": "4f65d944",
   "metadata": {},
   "outputs": [],
   "source": [
    "from sklearn.model_selection import train_test_split"
   ]
  },
  {
   "cell_type": "code",
   "execution_count": 110,
   "id": "6bc472d8",
   "metadata": {},
   "outputs": [],
   "source": [
    "X_train, X_test, y_train, y_test = train_test_split(X, y, test_size=0.30, random_state=101)"
   ]
  },
  {
   "cell_type": "code",
   "execution_count": 111,
   "id": "98780831",
   "metadata": {},
   "outputs": [],
   "source": [
    "#Scale the values\n",
    "from sklearn.preprocessing import MinMaxScaler"
   ]
  },
  {
   "cell_type": "code",
   "execution_count": 112,
   "id": "04a6011b",
   "metadata": {},
   "outputs": [],
   "source": [
    "scaler = MinMaxScaler()"
   ]
  },
  {
   "cell_type": "code",
   "execution_count": 113,
   "id": "b069424a",
   "metadata": {},
   "outputs": [],
   "source": [
    "X_train = scaler.fit_transform(X_train)"
   ]
  },
  {
   "cell_type": "code",
   "execution_count": 114,
   "id": "a4ec6ffd",
   "metadata": {},
   "outputs": [],
   "source": [
    "X_test = scaler.fit_transform(X_test)"
   ]
  },
  {
   "cell_type": "code",
   "execution_count": 118,
   "id": "870fa764",
   "metadata": {},
   "outputs": [],
   "source": [
    "#Create the model\n",
    "from tensorflow.keras.models import Sequential\n",
    "from tensorflow.keras.layers import Dense"
   ]
  },
  {
   "cell_type": "code",
   "execution_count": 121,
   "id": "c1487617",
   "metadata": {},
   "outputs": [],
   "source": [
    "model = Sequential()\n",
    "model.add(Dense(19, activation='relu'))\n",
    "model.add(Dense(19, activation='relu'))\n",
    "model.add(Dense(19, activation='relu'))\n",
    "model.add(Dense(19, activation='relu'))\n",
    "\n",
    "model.add(Dense(1))\n",
    "model.compile(optimizer='adam', loss='mse')"
   ]
  },
  {
   "cell_type": "code",
   "execution_count": 123,
   "id": "429c66eb",
   "metadata": {},
   "outputs": [
    {
     "name": "stdout",
     "output_type": "stream",
     "text": [
      "Epoch 1/400\n",
      "51/51 [==============================] - 2s 15ms/step - loss: 359040811008.0000 - val_loss: 359039696896.0000\n",
      "Epoch 2/400\n",
      "51/51 [==============================] - 1s 11ms/step - loss: 359032979456.0000 - val_loss: 359014400000.0000\n",
      "Epoch 3/400\n",
      "51/51 [==============================] - 1s 11ms/step - loss: 358926155776.0000 - val_loss: 358736789504.0000\n",
      "Epoch 4/400\n",
      "51/51 [==============================] - 1s 11ms/step - loss: 358163939328.0000 - val_loss: 357098291200.0000\n",
      "Epoch 5/400\n",
      "51/51 [==============================] - 1s 12ms/step - loss: 354648948736.0000 - val_loss: 350697881600.0000\n",
      "Epoch 6/400\n",
      "51/51 [==============================] - 0s 7ms/step - loss: 343251615744.0000 - val_loss: 332368674816.0000\n",
      "Epoch 7/400\n",
      "51/51 [==============================] - 0s 8ms/step - loss: 315407859712.0000 - val_loss: 292514496512.0000\n",
      "Epoch 8/400\n",
      "51/51 [==============================] - 0s 7ms/step - loss: 262184075264.0000 - val_loss: 225210597376.0000\n",
      "Epoch 9/400\n",
      "51/51 [==============================] - 0s 8ms/step - loss: 185139937280.0000 - val_loss: 142201356288.0000\n",
      "Epoch 10/400\n",
      "51/51 [==============================] - 0s 6ms/step - loss: 108648554496.0000 - val_loss: 79818432512.0000\n",
      "Epoch 11/400\n",
      "51/51 [==============================] - 0s 7ms/step - loss: 66539950080.0000 - val_loss: 58362646528.0000\n",
      "Epoch 12/400\n",
      "51/51 [==============================] - 0s 10ms/step - loss: 56849715200.0000 - val_loss: 55976984576.0000\n",
      "Epoch 13/400\n",
      "51/51 [==============================] - 0s 7ms/step - loss: 55707951104.0000 - val_loss: 55416627200.0000\n",
      "Epoch 14/400\n",
      "51/51 [==============================] - 0s 9ms/step - loss: 55202217984.0000 - val_loss: 54919184384.0000\n",
      "Epoch 15/400\n",
      "51/51 [==============================] - 0s 8ms/step - loss: 54741307392.0000 - val_loss: 54440456192.0000\n",
      "Epoch 16/400\n",
      "51/51 [==============================] - 0s 8ms/step - loss: 54235598848.0000 - val_loss: 53957406720.0000\n",
      "Epoch 17/400\n",
      "51/51 [==============================] - 0s 9ms/step - loss: 53740019712.0000 - val_loss: 53473677312.0000\n",
      "Epoch 18/400\n",
      "51/51 [==============================] - 1s 10ms/step - loss: 53241774080.0000 - val_loss: 52972261376.0000\n",
      "Epoch 19/400\n",
      "51/51 [==============================] - 0s 7ms/step - loss: 52744622080.0000 - val_loss: 52461613056.0000\n",
      "Epoch 20/400\n",
      "51/51 [==============================] - 0s 9ms/step - loss: 52229320704.0000 - val_loss: 51963248640.0000\n",
      "Epoch 21/400\n",
      "51/51 [==============================] - 1s 11ms/step - loss: 51747749888.0000 - val_loss: 51441131520.0000\n",
      "Epoch 22/400\n",
      "51/51 [==============================] - 0s 8ms/step - loss: 51226337280.0000 - val_loss: 50937159680.0000\n",
      "Epoch 23/400\n",
      "51/51 [==============================] - 0s 6ms/step - loss: 50724192256.0000 - val_loss: 50418855936.0000\n",
      "Epoch 24/400\n",
      "51/51 [==============================] - 0s 10ms/step - loss: 50199216128.0000 - val_loss: 49906593792.0000\n",
      "Epoch 25/400\n",
      "51/51 [==============================] - 0s 9ms/step - loss: 49677623296.0000 - val_loss: 49391157248.0000\n",
      "Epoch 26/400\n",
      "51/51 [==============================] - 1s 10ms/step - loss: 49151688704.0000 - val_loss: 48847142912.0000\n",
      "Epoch 27/400\n",
      "51/51 [==============================] - 0s 10ms/step - loss: 48603676672.0000 - val_loss: 48306561024.0000\n",
      "Epoch 28/400\n",
      "51/51 [==============================] - 1s 13ms/step - loss: 48055128064.0000 - val_loss: 47755808768.0000\n",
      "Epoch 29/400\n",
      "51/51 [==============================] - 0s 8ms/step - loss: 47506853888.0000 - val_loss: 47212560384.0000\n",
      "Epoch 30/400\n",
      "51/51 [==============================] - 0s 9ms/step - loss: 46972751872.0000 - val_loss: 46673563648.0000\n",
      "Epoch 31/400\n",
      "51/51 [==============================] - 0s 5ms/step - loss: 46406627328.0000 - val_loss: 46113275904.0000\n",
      "Epoch 32/400\n",
      "51/51 [==============================] - 0s 6ms/step - loss: 45859729408.0000 - val_loss: 45547651072.0000\n",
      "Epoch 33/400\n",
      "51/51 [==============================] - 0s 6ms/step - loss: 45273976832.0000 - val_loss: 44968968192.0000\n",
      "Epoch 34/400\n",
      "51/51 [==============================] - 1s 10ms/step - loss: 44713422848.0000 - val_loss: 44395053056.0000\n",
      "Epoch 35/400\n",
      "51/51 [==============================] - 1s 10ms/step - loss: 44164558848.0000 - val_loss: 43809529856.0000\n",
      "Epoch 36/400\n",
      "51/51 [==============================] - 1s 10ms/step - loss: 43542028288.0000 - val_loss: 43215790080.0000\n",
      "Epoch 37/400\n",
      "51/51 [==============================] - 1s 11ms/step - loss: 42958999552.0000 - val_loss: 42642153472.0000\n",
      "Epoch 38/400\n",
      "51/51 [==============================] - 0s 9ms/step - loss: 42395746304.0000 - val_loss: 42041896960.0000\n",
      "Epoch 39/400\n",
      "51/51 [==============================] - 1s 11ms/step - loss: 41768501248.0000 - val_loss: 41450639360.0000\n",
      "Epoch 40/400\n",
      "51/51 [==============================] - 0s 9ms/step - loss: 41183129600.0000 - val_loss: 40860864512.0000\n",
      "Epoch 41/400\n",
      "51/51 [==============================] - 1s 10ms/step - loss: 40577998848.0000 - val_loss: 40267182080.0000\n",
      "Epoch 42/400\n",
      "51/51 [==============================] - 1s 10ms/step - loss: 39976525824.0000 - val_loss: 39665901568.0000\n",
      "Epoch 43/400\n",
      "51/51 [==============================] - 0s 7ms/step - loss: 39380119552.0000 - val_loss: 39067865088.0000\n",
      "Epoch 44/400\n",
      "51/51 [==============================] - 1s 11ms/step - loss: 38794629120.0000 - val_loss: 38473568256.0000\n",
      "Epoch 45/400\n",
      "51/51 [==============================] - 1s 12ms/step - loss: 38220976128.0000 - val_loss: 37898833920.0000\n",
      "Epoch 46/400\n",
      "51/51 [==============================] - 1s 11ms/step - loss: 37626613760.0000 - val_loss: 37315014656.0000\n",
      "Epoch 47/400\n",
      "51/51 [==============================] - 1s 11ms/step - loss: 37055741952.0000 - val_loss: 36737421312.0000\n",
      "Epoch 48/400\n",
      "51/51 [==============================] - 1s 12ms/step - loss: 36517183488.0000 - val_loss: 36192927744.0000\n",
      "Epoch 49/400\n",
      "51/51 [==============================] - 1s 11ms/step - loss: 35933736960.0000 - val_loss: 35634737152.0000\n",
      "Epoch 50/400\n",
      "51/51 [==============================] - 0s 7ms/step - loss: 35402436608.0000 - val_loss: 35107487744.0000\n",
      "Epoch 51/400\n",
      "51/51 [==============================] - 0s 7ms/step - loss: 34912800768.0000 - val_loss: 34601988096.0000\n",
      "Epoch 52/400\n",
      "51/51 [==============================] - 0s 9ms/step - loss: 34410500096.0000 - val_loss: 34109263872.0000\n",
      "Epoch 53/400\n",
      "51/51 [==============================] - 0s 9ms/step - loss: 33892352000.0000 - val_loss: 33609035776.0000\n",
      "Epoch 54/400\n",
      "51/51 [==============================] - 1s 10ms/step - loss: 33414035456.0000 - val_loss: 33162162176.0000\n",
      "Epoch 55/400\n",
      "51/51 [==============================] - 0s 9ms/step - loss: 32951881728.0000 - val_loss: 32721244160.0000\n",
      "Epoch 56/400\n",
      "51/51 [==============================] - 1s 10ms/step - loss: 32531544064.0000 - val_loss: 32306098176.0000\n",
      "Epoch 57/400\n",
      "51/51 [==============================] - 0s 6ms/step - loss: 32131356672.0000 - val_loss: 31929155584.0000\n",
      "Epoch 58/400\n",
      "51/51 [==============================] - 0s 8ms/step - loss: 31829831680.0000 - val_loss: 31558825984.0000\n",
      "Epoch 59/400\n",
      "51/51 [==============================] - 0s 7ms/step - loss: 31408799744.0000 - val_loss: 31198932992.0000\n",
      "Epoch 60/400\n",
      "51/51 [==============================] - 0s 7ms/step - loss: 31053510656.0000 - val_loss: 30869925888.0000\n",
      "Epoch 61/400\n",
      "51/51 [==============================] - 1s 14ms/step - loss: 30736818176.0000 - val_loss: 30568957952.0000\n",
      "Epoch 62/400\n",
      "51/51 [==============================] - 1s 11ms/step - loss: 30446739456.0000 - val_loss: 30286800896.0000\n",
      "Epoch 63/400\n",
      "51/51 [==============================] - 1s 10ms/step - loss: 30161362944.0000 - val_loss: 30023331840.0000\n",
      "Epoch 64/400\n",
      "51/51 [==============================] - 1s 10ms/step - loss: 29912625152.0000 - val_loss: 29768429568.0000\n",
      "Epoch 65/400\n",
      "51/51 [==============================] - 1s 12ms/step - loss: 29672953856.0000 - val_loss: 29520017408.0000\n",
      "Epoch 66/400\n",
      "51/51 [==============================] - 1s 12ms/step - loss: 29447356416.0000 - val_loss: 29302900736.0000\n",
      "Epoch 67/400\n",
      "51/51 [==============================] - 1s 12ms/step - loss: 29203097600.0000 - val_loss: 29080012800.0000\n",
      "Epoch 68/400\n",
      "51/51 [==============================] - 1s 11ms/step - loss: 28994000896.0000 - val_loss: 28928104448.0000\n"
     ]
    },
    {
     "name": "stdout",
     "output_type": "stream",
     "text": [
      "Epoch 69/400\n",
      "51/51 [==============================] - 1s 11ms/step - loss: 28800636928.0000 - val_loss: 28683051008.0000\n",
      "Epoch 70/400\n",
      "51/51 [==============================] - 1s 10ms/step - loss: 28632238080.0000 - val_loss: 28490246144.0000\n",
      "Epoch 71/400\n",
      "51/51 [==============================] - 1s 10ms/step - loss: 28454236160.0000 - val_loss: 28328480768.0000\n",
      "Epoch 72/400\n",
      "51/51 [==============================] - 0s 10ms/step - loss: 28270841856.0000 - val_loss: 28167467008.0000\n",
      "Epoch 73/400\n",
      "51/51 [==============================] - 1s 10ms/step - loss: 28121507840.0000 - val_loss: 28014204928.0000\n",
      "Epoch 74/400\n",
      "51/51 [==============================] - 0s 9ms/step - loss: 27956914176.0000 - val_loss: 27871455232.0000\n",
      "Epoch 75/400\n",
      "51/51 [==============================] - 0s 8ms/step - loss: 27828203520.0000 - val_loss: 27729805312.0000\n",
      "Epoch 76/400\n",
      "51/51 [==============================] - 1s 11ms/step - loss: 27696396288.0000 - val_loss: 27610165248.0000\n",
      "Epoch 77/400\n",
      "51/51 [==============================] - 0s 9ms/step - loss: 27563071488.0000 - val_loss: 27479398400.0000\n",
      "Epoch 78/400\n",
      "51/51 [==============================] - 0s 7ms/step - loss: 27466170368.0000 - val_loss: 27365404672.0000\n",
      "Epoch 79/400\n",
      "51/51 [==============================] - 0s 7ms/step - loss: 27321657344.0000 - val_loss: 27240030208.0000\n",
      "Epoch 80/400\n",
      "51/51 [==============================] - 0s 9ms/step - loss: 27225784320.0000 - val_loss: 27137296384.0000\n",
      "Epoch 81/400\n",
      "51/51 [==============================] - 1s 11ms/step - loss: 27106684928.0000 - val_loss: 27029164032.0000\n",
      "Epoch 82/400\n",
      "51/51 [==============================] - 1s 10ms/step - loss: 26995681280.0000 - val_loss: 26916493312.0000\n",
      "Epoch 83/400\n",
      "51/51 [==============================] - 1s 10ms/step - loss: 26895349760.0000 - val_loss: 26816817152.0000\n",
      "Epoch 84/400\n",
      "51/51 [==============================] - 1s 11ms/step - loss: 26783127552.0000 - val_loss: 26729598976.0000\n",
      "Epoch 85/400\n",
      "51/51 [==============================] - 1s 12ms/step - loss: 26706255872.0000 - val_loss: 26630432768.0000\n",
      "Epoch 86/400\n",
      "51/51 [==============================] - 1s 12ms/step - loss: 26631563264.0000 - val_loss: 26563463168.0000\n",
      "Epoch 87/400\n",
      "51/51 [==============================] - 1s 12ms/step - loss: 26514833408.0000 - val_loss: 26477162496.0000\n",
      "Epoch 88/400\n",
      "51/51 [==============================] - 1s 10ms/step - loss: 26432468992.0000 - val_loss: 26378868736.0000\n",
      "Epoch 89/400\n",
      "51/51 [==============================] - 1s 11ms/step - loss: 26373586944.0000 - val_loss: 26339301376.0000\n",
      "Epoch 90/400\n",
      "51/51 [==============================] - 0s 7ms/step - loss: 26288338944.0000 - val_loss: 26218401792.0000\n",
      "Epoch 91/400\n",
      "51/51 [==============================] - 0s 9ms/step - loss: 26201655296.0000 - val_loss: 26144606208.0000\n",
      "Epoch 92/400\n",
      "51/51 [==============================] - 0s 6ms/step - loss: 26126782464.0000 - val_loss: 26105137152.0000\n",
      "Epoch 93/400\n",
      "51/51 [==============================] - 0s 6ms/step - loss: 26065983488.0000 - val_loss: 25994164224.0000\n",
      "Epoch 94/400\n",
      "51/51 [==============================] - 0s 6ms/step - loss: 25980399616.0000 - val_loss: 25935067136.0000\n",
      "Epoch 95/400\n",
      "51/51 [==============================] - 0s 6ms/step - loss: 25929947136.0000 - val_loss: 25890680832.0000\n",
      "Epoch 96/400\n",
      "51/51 [==============================] - 0s 6ms/step - loss: 25853898752.0000 - val_loss: 25824464896.0000\n",
      "Epoch 97/400\n",
      "51/51 [==============================] - 0s 6ms/step - loss: 25845983232.0000 - val_loss: 25744193536.0000\n",
      "Epoch 98/400\n",
      "51/51 [==============================] - 0s 6ms/step - loss: 25709824000.0000 - val_loss: 25672028160.0000\n",
      "Epoch 99/400\n",
      "51/51 [==============================] - 0s 7ms/step - loss: 25672683520.0000 - val_loss: 25616855040.0000\n",
      "Epoch 100/400\n",
      "51/51 [==============================] - 0s 10ms/step - loss: 25603481600.0000 - val_loss: 25559441408.0000\n",
      "Epoch 101/400\n",
      "51/51 [==============================] - 1s 12ms/step - loss: 25535444992.0000 - val_loss: 25520939008.0000\n",
      "Epoch 102/400\n",
      "51/51 [==============================] - 1s 11ms/step - loss: 25505953792.0000 - val_loss: 25456351232.0000\n",
      "Epoch 103/400\n",
      "51/51 [==============================] - 0s 8ms/step - loss: 25430284288.0000 - val_loss: 25388347392.0000\n",
      "Epoch 104/400\n",
      "51/51 [==============================] - 1s 12ms/step - loss: 25381926912.0000 - val_loss: 25331927040.0000\n",
      "Epoch 105/400\n",
      "51/51 [==============================] - 1s 11ms/step - loss: 25327620096.0000 - val_loss: 25331638272.0000\n",
      "Epoch 106/400\n",
      "51/51 [==============================] - 1s 11ms/step - loss: 25290409984.0000 - val_loss: 25235892224.0000\n",
      "Epoch 107/400\n",
      "51/51 [==============================] - 1s 11ms/step - loss: 25231892480.0000 - val_loss: 25204977664.0000\n",
      "Epoch 108/400\n",
      "51/51 [==============================] - 1s 11ms/step - loss: 25223806976.0000 - val_loss: 25140414464.0000\n",
      "Epoch 109/400\n",
      "51/51 [==============================] - 1s 11ms/step - loss: 25147445248.0000 - val_loss: 25089417216.0000\n",
      "Epoch 110/400\n",
      "51/51 [==============================] - 1s 12ms/step - loss: 25078552576.0000 - val_loss: 25043376128.0000\n",
      "Epoch 111/400\n",
      "51/51 [==============================] - 1s 12ms/step - loss: 25046298624.0000 - val_loss: 25011402752.0000\n",
      "Epoch 112/400\n",
      "51/51 [==============================] - 1s 11ms/step - loss: 25016301568.0000 - val_loss: 24952154112.0000\n",
      "Epoch 113/400\n",
      "51/51 [==============================] - 1s 11ms/step - loss: 24976414720.0000 - val_loss: 24915273728.0000\n",
      "Epoch 114/400\n",
      "51/51 [==============================] - 1s 11ms/step - loss: 24912189440.0000 - val_loss: 24889085952.0000\n",
      "Epoch 115/400\n",
      "51/51 [==============================] - 1s 12ms/step - loss: 24887762944.0000 - val_loss: 24831705088.0000\n",
      "Epoch 116/400\n",
      "51/51 [==============================] - 1s 12ms/step - loss: 24842872832.0000 - val_loss: 24805322752.0000\n",
      "Epoch 117/400\n",
      "51/51 [==============================] - 1s 13ms/step - loss: 24801536000.0000 - val_loss: 24800907264.0000\n",
      "Epoch 118/400\n",
      "51/51 [==============================] - 1s 12ms/step - loss: 24771182592.0000 - val_loss: 24714872832.0000\n",
      "Epoch 119/400\n",
      "51/51 [==============================] - 1s 12ms/step - loss: 24730470400.0000 - val_loss: 24681142272.0000\n",
      "Epoch 120/400\n",
      "51/51 [==============================] - 1s 11ms/step - loss: 24679622656.0000 - val_loss: 24642494464.0000\n",
      "Epoch 121/400\n",
      "51/51 [==============================] - 1s 11ms/step - loss: 24639571968.0000 - val_loss: 24604383232.0000\n",
      "Epoch 122/400\n",
      "51/51 [==============================] - 1s 13ms/step - loss: 24636456960.0000 - val_loss: 24708429824.0000\n",
      "Epoch 123/400\n",
      "51/51 [==============================] - 1s 12ms/step - loss: 24619399168.0000 - val_loss: 24539584512.0000\n",
      "Epoch 124/400\n",
      "51/51 [==============================] - 1s 12ms/step - loss: 24538509312.0000 - val_loss: 24507346944.0000\n",
      "Epoch 125/400\n",
      "51/51 [==============================] - 1s 12ms/step - loss: 24518830080.0000 - val_loss: 24480294912.0000\n",
      "Epoch 126/400\n",
      "51/51 [==============================] - 0s 7ms/step - loss: 24486590464.0000 - val_loss: 24447993856.0000\n",
      "Epoch 127/400\n",
      "51/51 [==============================] - 1s 10ms/step - loss: 24495341568.0000 - val_loss: 24408514560.0000\n",
      "Epoch 128/400\n",
      "51/51 [==============================] - 0s 7ms/step - loss: 24415963136.0000 - val_loss: 24390017024.0000\n",
      "Epoch 129/400\n",
      "51/51 [==============================] - 0s 5ms/step - loss: 24394932224.0000 - val_loss: 24367489024.0000\n",
      "Epoch 130/400\n",
      "51/51 [==============================] - 0s 6ms/step - loss: 24373393408.0000 - val_loss: 24322709504.0000\n",
      "Epoch 131/400\n",
      "51/51 [==============================] - 0s 9ms/step - loss: 24325062656.0000 - val_loss: 24299020288.0000\n",
      "Epoch 132/400\n",
      "51/51 [==============================] - 0s 9ms/step - loss: 24290078720.0000 - val_loss: 24288606208.0000\n",
      "Epoch 133/400\n",
      "51/51 [==============================] - 0s 7ms/step - loss: 24283693056.0000 - val_loss: 24283875328.0000\n",
      "Epoch 134/400\n",
      "51/51 [==============================] - 0s 8ms/step - loss: 24251803648.0000 - val_loss: 24248559616.0000\n",
      "Epoch 135/400\n",
      "51/51 [==============================] - 0s 10ms/step - loss: 24229718016.0000 - val_loss: 24192032768.0000\n",
      "Epoch 136/400\n",
      "51/51 [==============================] - 0s 9ms/step - loss: 24216086528.0000 - val_loss: 24158601216.0000\n",
      "Epoch 137/400\n",
      "51/51 [==============================] - 1s 11ms/step - loss: 24163936256.0000 - val_loss: 24136304640.0000\n",
      "Epoch 138/400\n",
      "51/51 [==============================] - 1s 11ms/step - loss: 24148072448.0000 - val_loss: 24107091968.0000\n",
      "Epoch 139/400\n",
      "51/51 [==============================] - 1s 12ms/step - loss: 24142952448.0000 - val_loss: 24081272832.0000\n",
      "Epoch 140/400\n",
      "51/51 [==============================] - 1s 11ms/step - loss: 24090982400.0000 - val_loss: 24070766592.0000\n",
      "Epoch 141/400\n",
      "51/51 [==============================] - 1s 11ms/step - loss: 24095660032.0000 - val_loss: 24062244864.0000\n",
      "Epoch 142/400\n",
      "51/51 [==============================] - 1s 11ms/step - loss: 24096634880.0000 - val_loss: 24026347520.0000\n",
      "Epoch 143/400\n",
      "51/51 [==============================] - 1s 10ms/step - loss: 24011061248.0000 - val_loss: 24005787648.0000\n",
      "Epoch 144/400\n",
      "51/51 [==============================] - 1s 11ms/step - loss: 24011251712.0000 - val_loss: 23970349056.0000\n",
      "Epoch 145/400\n",
      "51/51 [==============================] - 1s 11ms/step - loss: 23988099072.0000 - val_loss: 23942365184.0000\n",
      "Epoch 146/400\n",
      "51/51 [==============================] - 1s 10ms/step - loss: 23945347072.0000 - val_loss: 23936794624.0000\n",
      "Epoch 147/400\n",
      "51/51 [==============================] - 1s 10ms/step - loss: 23933296640.0000 - val_loss: 23917133824.0000\n",
      "Epoch 148/400\n",
      "51/51 [==============================] - 1s 11ms/step - loss: 23967107072.0000 - val_loss: 23875678208.0000\n",
      "Epoch 149/400\n",
      "51/51 [==============================] - 0s 9ms/step - loss: 23900334080.0000 - val_loss: 23889233920.0000\n",
      "Epoch 150/400\n",
      "51/51 [==============================] - 0s 8ms/step - loss: 23915732992.0000 - val_loss: 23861360640.0000\n",
      "Epoch 151/400\n",
      "51/51 [==============================] - 1s 11ms/step - loss: 23860084736.0000 - val_loss: 23814875136.0000\n",
      "Epoch 152/400\n",
      "51/51 [==============================] - 1s 10ms/step - loss: 23834865664.0000 - val_loss: 23794745344.0000\n",
      "Epoch 153/400\n",
      "51/51 [==============================] - 0s 9ms/step - loss: 23839324160.0000 - val_loss: 23778775040.0000\n",
      "Epoch 154/400\n",
      "51/51 [==============================] - 1s 10ms/step - loss: 23795398656.0000 - val_loss: 23767732224.0000\n",
      "Epoch 155/400\n",
      "51/51 [==============================] - 0s 8ms/step - loss: 23795073024.0000 - val_loss: 23736088576.0000\n",
      "Epoch 156/400\n",
      "51/51 [==============================] - 1s 12ms/step - loss: 23739525120.0000 - val_loss: 23719561216.0000\n",
      "Epoch 157/400\n",
      "51/51 [==============================] - 1s 10ms/step - loss: 23751614464.0000 - val_loss: 23713294336.0000\n",
      "Epoch 158/400\n",
      "51/51 [==============================] - 0s 8ms/step - loss: 23716802560.0000 - val_loss: 23686858752.0000\n",
      "Epoch 159/400\n",
      "51/51 [==============================] - 1s 12ms/step - loss: 23690618880.0000 - val_loss: 23662221312.0000\n",
      "Epoch 160/400\n",
      "51/51 [==============================] - 1s 11ms/step - loss: 23682039808.0000 - val_loss: 23658741760.0000\n",
      "Epoch 161/400\n",
      "51/51 [==============================] - 1s 11ms/step - loss: 23692478464.0000 - val_loss: 23633287168.0000\n",
      "Epoch 162/400\n",
      "51/51 [==============================] - 1s 12ms/step - loss: 23646666752.0000 - val_loss: 23609079808.0000\n",
      "Epoch 163/400\n",
      "51/51 [==============================] - 1s 12ms/step - loss: 23663491072.0000 - val_loss: 23589466112.0000\n",
      "Epoch 164/400\n",
      "51/51 [==============================] - 1s 12ms/step - loss: 23630217216.0000 - val_loss: 23572285440.0000\n",
      "Epoch 165/400\n",
      "51/51 [==============================] - 1s 11ms/step - loss: 23591815168.0000 - val_loss: 23570542592.0000\n",
      "Epoch 166/400\n",
      "51/51 [==============================] - 1s 12ms/step - loss: 23606245376.0000 - val_loss: 23553216512.0000\n",
      "Epoch 167/400\n",
      "51/51 [==============================] - 1s 12ms/step - loss: 23580250112.0000 - val_loss: 23529236480.0000\n",
      "Epoch 168/400\n",
      "51/51 [==============================] - 1s 12ms/step - loss: 23555862528.0000 - val_loss: 23534903296.0000\n",
      "Epoch 169/400\n",
      "51/51 [==============================] - 1s 12ms/step - loss: 23532302336.0000 - val_loss: 23601178624.0000\n",
      "Epoch 170/400\n",
      "51/51 [==============================] - 1s 13ms/step - loss: 23487817728.0000 - val_loss: 23471812608.0000\n",
      "Epoch 171/400\n",
      "51/51 [==============================] - 1s 11ms/step - loss: 23489925120.0000 - val_loss: 23451574272.0000\n",
      "Epoch 172/400\n",
      "51/51 [==============================] - 1s 12ms/step - loss: 23480213504.0000 - val_loss: 23432169472.0000\n",
      "Epoch 173/400\n",
      "51/51 [==============================] - 0s 9ms/step - loss: 23451836416.0000 - val_loss: 23415457792.0000\n",
      "Epoch 174/400\n",
      "51/51 [==============================] - 0s 6ms/step - loss: 23444041728.0000 - val_loss: 23401891840.0000\n",
      "Epoch 175/400\n",
      "51/51 [==============================] - 0s 9ms/step - loss: 23409137664.0000 - val_loss: 23391627264.0000\n",
      "Epoch 176/400\n",
      "51/51 [==============================] - 0s 6ms/step - loss: 23415441408.0000 - val_loss: 23419117568.0000\n",
      "Epoch 177/400\n",
      "51/51 [==============================] - 0s 6ms/step - loss: 23403845632.0000 - val_loss: 23364710400.0000\n",
      "Epoch 178/400\n",
      "51/51 [==============================] - 0s 6ms/step - loss: 23401832448.0000 - val_loss: 23369750528.0000\n",
      "Epoch 179/400\n",
      "51/51 [==============================] - 0s 6ms/step - loss: 23357323264.0000 - val_loss: 23322494976.0000\n",
      "Epoch 180/400\n",
      "51/51 [==============================] - 0s 6ms/step - loss: 23339841536.0000 - val_loss: 23305672704.0000\n",
      "Epoch 181/400\n",
      "51/51 [==============================] - 1s 11ms/step - loss: 23316002816.0000 - val_loss: 23288768512.0000\n",
      "Epoch 182/400\n",
      "51/51 [==============================] - 1s 12ms/step - loss: 23316779008.0000 - val_loss: 23280629760.0000\n",
      "Epoch 183/400\n",
      "51/51 [==============================] - 1s 12ms/step - loss: 23288590336.0000 - val_loss: 23261724672.0000\n",
      "Epoch 184/400\n",
      "51/51 [==============================] - 1s 12ms/step - loss: 23315316736.0000 - val_loss: 23255861248.0000\n",
      "Epoch 185/400\n",
      "51/51 [==============================] - 0s 9ms/step - loss: 23262443520.0000 - val_loss: 23228309504.0000\n",
      "Epoch 186/400\n",
      "51/51 [==============================] - 0s 7ms/step - loss: 23260145664.0000 - val_loss: 23227944960.0000\n",
      "Epoch 187/400\n",
      "51/51 [==============================] - 0s 8ms/step - loss: 23218423808.0000 - val_loss: 23237068800.0000\n",
      "Epoch 188/400\n",
      "51/51 [==============================] - 1s 11ms/step - loss: 23239534592.0000 - val_loss: 23211341824.0000\n",
      "Epoch 189/400\n",
      "51/51 [==============================] - 1s 11ms/step - loss: 23209871360.0000 - val_loss: 23178938368.0000\n",
      "Epoch 190/400\n",
      "51/51 [==============================] - 1s 12ms/step - loss: 23208443904.0000 - val_loss: 23153629184.0000\n",
      "Epoch 191/400\n",
      "51/51 [==============================] - 1s 12ms/step - loss: 23159431168.0000 - val_loss: 23170607104.0000\n",
      "Epoch 192/400\n",
      "51/51 [==============================] - 1s 11ms/step - loss: 23164796928.0000 - val_loss: 23127554048.0000\n",
      "Epoch 193/400\n",
      "51/51 [==============================] - 1s 10ms/step - loss: 23133345792.0000 - val_loss: 23148107776.0000\n",
      "Epoch 194/400\n",
      "51/51 [==============================] - 0s 9ms/step - loss: 23129970688.0000 - val_loss: 23100813312.0000\n",
      "Epoch 195/400\n",
      "51/51 [==============================] - 0s 9ms/step - loss: 23105710080.0000 - val_loss: 23102844928.0000\n",
      "Epoch 196/400\n",
      "51/51 [==============================] - 0s 9ms/step - loss: 23113431040.0000 - val_loss: 23073605632.0000\n",
      "Epoch 197/400\n",
      "51/51 [==============================] - 0s 7ms/step - loss: 23100411904.0000 - val_loss: 23085838336.0000\n",
      "Epoch 198/400\n",
      "51/51 [==============================] - 0s 8ms/step - loss: 23111964672.0000 - val_loss: 23057629184.0000\n",
      "Epoch 199/400\n",
      "51/51 [==============================] - 0s 6ms/step - loss: 23085152256.0000 - val_loss: 23054292992.0000\n",
      "Epoch 200/400\n",
      "51/51 [==============================] - 1s 11ms/step - loss: 23042621440.0000 - val_loss: 23043020800.0000\n",
      "Epoch 201/400\n",
      "51/51 [==============================] - 0s 8ms/step - loss: 23060881408.0000 - val_loss: 23016189952.0000\n",
      "Epoch 202/400\n",
      "51/51 [==============================] - 0s 7ms/step - loss: 23057997824.0000 - val_loss: 22999511040.0000\n",
      "Epoch 203/400\n"
     ]
    },
    {
     "name": "stdout",
     "output_type": "stream",
     "text": [
      "51/51 [==============================] - 0s 9ms/step - loss: 23018108928.0000 - val_loss: 22993754112.0000\n",
      "Epoch 204/400\n",
      "51/51 [==============================] - 1s 11ms/step - loss: 23011766272.0000 - val_loss: 22977089536.0000\n",
      "Epoch 205/400\n",
      "51/51 [==============================] - 1s 10ms/step - loss: 22992631808.0000 - val_loss: 22973710336.0000\n",
      "Epoch 206/400\n",
      "51/51 [==============================] - 0s 10ms/step - loss: 22990278656.0000 - val_loss: 22952939520.0000\n",
      "Epoch 207/400\n",
      "51/51 [==============================] - 1s 10ms/step - loss: 22958592000.0000 - val_loss: 22943238144.0000\n",
      "Epoch 208/400\n",
      "51/51 [==============================] - 0s 9ms/step - loss: 22947233792.0000 - val_loss: 22967207936.0000\n",
      "Epoch 209/400\n",
      "51/51 [==============================] - 0s 8ms/step - loss: 22962728960.0000 - val_loss: 22917173248.0000\n",
      "Epoch 210/400\n",
      "51/51 [==============================] - 0s 8ms/step - loss: 22932867072.0000 - val_loss: 22927581184.0000\n",
      "Epoch 211/400\n",
      "51/51 [==============================] - 1s 10ms/step - loss: 22963171328.0000 - val_loss: 22895167488.0000\n",
      "Epoch 212/400\n",
      "51/51 [==============================] - 1s 10ms/step - loss: 22913505280.0000 - val_loss: 23022104576.0000\n",
      "Epoch 213/400\n",
      "51/51 [==============================] - 1s 10ms/step - loss: 22928058368.0000 - val_loss: 22874976256.0000\n",
      "Epoch 214/400\n",
      "51/51 [==============================] - 0s 8ms/step - loss: 22901280768.0000 - val_loss: 22867660800.0000\n",
      "Epoch 215/400\n",
      "51/51 [==============================] - 0s 7ms/step - loss: 22879641600.0000 - val_loss: 22852857856.0000\n",
      "Epoch 216/400\n",
      "51/51 [==============================] - 0s 10ms/step - loss: 22877261824.0000 - val_loss: 22877360128.0000\n",
      "Epoch 217/400\n",
      "51/51 [==============================] - 1s 11ms/step - loss: 22960570368.0000 - val_loss: 22836312064.0000\n",
      "Epoch 218/400\n",
      "51/51 [==============================] - 1s 11ms/step - loss: 22854133760.0000 - val_loss: 22869098496.0000\n",
      "Epoch 219/400\n",
      "51/51 [==============================] - 1s 10ms/step - loss: 22828322816.0000 - val_loss: 22888167424.0000\n",
      "Epoch 220/400\n",
      "51/51 [==============================] - 1s 10ms/step - loss: 22861481984.0000 - val_loss: 22836580352.0000\n",
      "Epoch 221/400\n",
      "51/51 [==============================] - 1s 10ms/step - loss: 22832027648.0000 - val_loss: 22817337344.0000\n",
      "Epoch 222/400\n",
      "51/51 [==============================] - 1s 11ms/step - loss: 22811617280.0000 - val_loss: 22799327232.0000\n",
      "Epoch 223/400\n",
      "51/51 [==============================] - 1s 11ms/step - loss: 22829047808.0000 - val_loss: 22787588096.0000\n",
      "Epoch 224/400\n",
      "51/51 [==============================] - 1s 11ms/step - loss: 22809798656.0000 - val_loss: 22760122368.0000\n",
      "Epoch 225/400\n",
      "51/51 [==============================] - 1s 11ms/step - loss: 22796394496.0000 - val_loss: 22751203328.0000\n",
      "Epoch 226/400\n",
      "51/51 [==============================] - 1s 11ms/step - loss: 22774644736.0000 - val_loss: 22741870592.0000\n",
      "Epoch 227/400\n",
      "51/51 [==============================] - 0s 7ms/step - loss: 22760476672.0000 - val_loss: 22734876672.0000\n",
      "Epoch 228/400\n",
      "51/51 [==============================] - 0s 9ms/step - loss: 22765887488.0000 - val_loss: 22724564992.0000\n",
      "Epoch 229/400\n",
      "51/51 [==============================] - 0s 9ms/step - loss: 22762377216.0000 - val_loss: 22729009152.0000\n",
      "Epoch 230/400\n",
      "51/51 [==============================] - 0s 9ms/step - loss: 22725543936.0000 - val_loss: 22705102848.0000\n",
      "Epoch 231/400\n",
      "51/51 [==============================] - 0s 9ms/step - loss: 22732412928.0000 - val_loss: 22707044352.0000\n",
      "Epoch 232/400\n",
      "51/51 [==============================] - 1s 11ms/step - loss: 22717245440.0000 - val_loss: 22687885312.0000\n",
      "Epoch 233/400\n",
      "51/51 [==============================] - 1s 10ms/step - loss: 22723512320.0000 - val_loss: 22679140352.0000\n",
      "Epoch 234/400\n",
      "51/51 [==============================] - 1s 11ms/step - loss: 22703597568.0000 - val_loss: 22706178048.0000\n",
      "Epoch 235/400\n",
      "51/51 [==============================] - 0s 10ms/step - loss: 22719346688.0000 - val_loss: 22665693184.0000\n",
      "Epoch 236/400\n",
      "51/51 [==============================] - 0s 6ms/step - loss: 22696988672.0000 - val_loss: 22658598912.0000\n",
      "Epoch 237/400\n",
      "51/51 [==============================] - 0s 9ms/step - loss: 22703161344.0000 - val_loss: 22649022464.0000\n",
      "Epoch 238/400\n",
      "51/51 [==============================] - 0s 7ms/step - loss: 22666909696.0000 - val_loss: 22637385728.0000\n",
      "Epoch 239/400\n",
      "51/51 [==============================] - 0s 6ms/step - loss: 22667126784.0000 - val_loss: 22675877888.0000\n",
      "Epoch 240/400\n",
      "51/51 [==============================] - 0s 7ms/step - loss: 22703824896.0000 - val_loss: 22620416000.0000\n",
      "Epoch 241/400\n",
      "51/51 [==============================] - 0s 8ms/step - loss: 22652309504.0000 - val_loss: 22630918144.0000\n",
      "Epoch 242/400\n",
      "51/51 [==============================] - 0s 6ms/step - loss: 22646943744.0000 - val_loss: 22614839296.0000\n",
      "Epoch 243/400\n",
      "51/51 [==============================] - 0s 7ms/step - loss: 22634115072.0000 - val_loss: 22609670144.0000\n",
      "Epoch 244/400\n",
      "51/51 [==============================] - 0s 10ms/step - loss: 22687502336.0000 - val_loss: 22642315264.0000\n",
      "Epoch 245/400\n",
      "51/51 [==============================] - 1s 12ms/step - loss: 22621814784.0000 - val_loss: 22580330496.0000\n",
      "Epoch 246/400\n",
      "51/51 [==============================] - 1s 11ms/step - loss: 22616502272.0000 - val_loss: 22583771136.0000\n",
      "Epoch 247/400\n",
      "51/51 [==============================] - 1s 11ms/step - loss: 22642769920.0000 - val_loss: 22566445056.0000\n",
      "Epoch 248/400\n",
      "51/51 [==============================] - 1s 13ms/step - loss: 22643099648.0000 - val_loss: 22559791104.0000\n",
      "Epoch 249/400\n",
      "51/51 [==============================] - 1s 12ms/step - loss: 22604679168.0000 - val_loss: 22549032960.0000\n",
      "Epoch 250/400\n",
      "51/51 [==============================] - 1s 11ms/step - loss: 22583982080.0000 - val_loss: 22576689152.0000\n",
      "Epoch 251/400\n",
      "51/51 [==============================] - 1s 12ms/step - loss: 22577072128.0000 - val_loss: 22559645696.0000\n",
      "Epoch 252/400\n",
      "51/51 [==============================] - 1s 12ms/step - loss: 22558238720.0000 - val_loss: 22525169664.0000\n",
      "Epoch 253/400\n",
      "51/51 [==============================] - 1s 11ms/step - loss: 22550669312.0000 - val_loss: 22519414784.0000\n",
      "Epoch 254/400\n",
      "51/51 [==============================] - 0s 9ms/step - loss: 22541787136.0000 - val_loss: 22537484288.0000\n",
      "Epoch 255/400\n",
      "51/51 [==============================] - 1s 14ms/step - loss: 22526015488.0000 - val_loss: 22528051200.0000\n",
      "Epoch 256/400\n",
      "51/51 [==============================] - 1s 11ms/step - loss: 22526107648.0000 - val_loss: 22502064128.0000\n",
      "Epoch 257/400\n",
      "51/51 [==============================] - 1s 12ms/step - loss: 22518702080.0000 - val_loss: 22567264256.0000\n",
      "Epoch 258/400\n",
      "51/51 [==============================] - 1s 12ms/step - loss: 22518595584.0000 - val_loss: 22486566912.0000\n",
      "Epoch 259/400\n",
      "51/51 [==============================] - 0s 8ms/step - loss: 22510172160.0000 - val_loss: 22475198464.0000\n",
      "Epoch 260/400\n",
      "51/51 [==============================] - 0s 7ms/step - loss: 22507139072.0000 - val_loss: 22472054784.0000\n",
      "Epoch 261/400\n",
      "51/51 [==============================] - 1s 11ms/step - loss: 22496620544.0000 - val_loss: 22462453760.0000\n",
      "Epoch 262/400\n",
      "51/51 [==============================] - 0s 7ms/step - loss: 22477826048.0000 - val_loss: 22453657600.0000\n",
      "Epoch 263/400\n",
      "51/51 [==============================] - 1s 13ms/step - loss: 22484277248.0000 - val_loss: 22461466624.0000\n",
      "Epoch 264/400\n",
      "51/51 [==============================] - 1s 13ms/step - loss: 22475943936.0000 - val_loss: 22440398848.0000\n",
      "Epoch 265/400\n",
      "51/51 [==============================] - 1s 12ms/step - loss: 22471270400.0000 - val_loss: 22436790272.0000\n",
      "Epoch 266/400\n",
      "51/51 [==============================] - 1s 11ms/step - loss: 22447998976.0000 - val_loss: 22476204032.0000\n",
      "Epoch 267/400\n",
      "51/51 [==============================] - 0s 9ms/step - loss: 22518941696.0000 - val_loss: 22431916032.0000\n",
      "Epoch 268/400\n",
      "51/51 [==============================] - 0s 7ms/step - loss: 22449022976.0000 - val_loss: 22471835648.0000\n",
      "Epoch 269/400\n",
      "51/51 [==============================] - 0s 6ms/step - loss: 22445938688.0000 - val_loss: 22417920000.0000\n",
      "Epoch 270/400\n",
      "51/51 [==============================] - 0s 6ms/step - loss: 22442811392.0000 - val_loss: 22439004160.0000\n",
      "Epoch 271/400\n",
      "51/51 [==============================] - 0s 6ms/step - loss: 22442291200.0000 - val_loss: 22397048832.0000\n",
      "Epoch 272/400\n",
      "51/51 [==============================] - 1s 11ms/step - loss: 22415962112.0000 - val_loss: 22407426048.0000\n",
      "Epoch 273/400\n",
      "51/51 [==============================] - 0s 8ms/step - loss: 22407991296.0000 - val_loss: 22424190976.0000\n",
      "Epoch 274/400\n",
      "51/51 [==============================] - 0s 6ms/step - loss: 22414305280.0000 - val_loss: 22439790592.0000\n",
      "Epoch 275/400\n",
      "51/51 [==============================] - 1s 10ms/step - loss: 22412271616.0000 - val_loss: 22372720640.0000\n",
      "Epoch 276/400\n",
      "51/51 [==============================] - 0s 10ms/step - loss: 22393827328.0000 - val_loss: 22366783488.0000\n",
      "Epoch 277/400\n",
      "51/51 [==============================] - 0s 9ms/step - loss: 22439100416.0000 - val_loss: 22360037376.0000\n",
      "Epoch 278/400\n",
      "51/51 [==============================] - 0s 8ms/step - loss: 22390966272.0000 - val_loss: 22355013632.0000\n",
      "Epoch 279/400\n",
      "51/51 [==============================] - 0s 8ms/step - loss: 22378434560.0000 - val_loss: 22351097856.0000\n",
      "Epoch 280/400\n",
      "51/51 [==============================] - 0s 10ms/step - loss: 22378661888.0000 - val_loss: 22344112128.0000\n",
      "Epoch 281/400\n",
      "51/51 [==============================] - 0s 9ms/step - loss: 22364866560.0000 - val_loss: 22338066432.0000\n",
      "Epoch 282/400\n",
      "51/51 [==============================] - 0s 9ms/step - loss: 22351929344.0000 - val_loss: 22351683584.0000\n",
      "Epoch 283/400\n",
      "51/51 [==============================] - 0s 9ms/step - loss: 22338652160.0000 - val_loss: 22326505472.0000\n",
      "Epoch 284/400\n",
      "51/51 [==============================] - 0s 9ms/step - loss: 22369306624.0000 - val_loss: 22321936384.0000\n",
      "Epoch 285/400\n",
      "51/51 [==============================] - 0s 9ms/step - loss: 22356111360.0000 - val_loss: 22320056320.0000\n",
      "Epoch 286/400\n",
      "51/51 [==============================] - 0s 9ms/step - loss: 22344947712.0000 - val_loss: 22347001856.0000\n",
      "Epoch 287/400\n",
      "51/51 [==============================] - 0s 9ms/step - loss: 22341890048.0000 - val_loss: 22307248128.0000\n",
      "Epoch 288/400\n",
      "51/51 [==============================] - 0s 8ms/step - loss: 22328643584.0000 - val_loss: 22326317056.0000\n",
      "Epoch 289/400\n",
      "51/51 [==============================] - 0s 9ms/step - loss: 22316072960.0000 - val_loss: 22294659072.0000\n",
      "Epoch 290/400\n",
      "51/51 [==============================] - 0s 9ms/step - loss: 22339311616.0000 - val_loss: 22300690432.0000\n",
      "Epoch 291/400\n",
      "51/51 [==============================] - 0s 9ms/step - loss: 22325196800.0000 - val_loss: 22283321344.0000\n",
      "Epoch 292/400\n",
      "51/51 [==============================] - 0s 8ms/step - loss: 22324600832.0000 - val_loss: 22279643136.0000\n",
      "Epoch 293/400\n",
      "51/51 [==============================] - 0s 8ms/step - loss: 22318430208.0000 - val_loss: 22272940032.0000\n",
      "Epoch 294/400\n",
      "51/51 [==============================] - 1s 10ms/step - loss: 22284959744.0000 - val_loss: 22320529408.0000\n",
      "Epoch 295/400\n",
      "51/51 [==============================] - 0s 9ms/step - loss: 22301609984.0000 - val_loss: 22280839168.0000\n",
      "Epoch 296/400\n",
      "51/51 [==============================] - 0s 9ms/step - loss: 22275358720.0000 - val_loss: 22266497024.0000\n",
      "Epoch 297/400\n",
      "51/51 [==============================] - 0s 9ms/step - loss: 22288398336.0000 - val_loss: 22253754368.0000\n",
      "Epoch 298/400\n",
      "51/51 [==============================] - 1s 11ms/step - loss: 22264219648.0000 - val_loss: 22281596928.0000\n",
      "Epoch 299/400\n",
      "51/51 [==============================] - 1s 10ms/step - loss: 22296522752.0000 - val_loss: 22336536576.0000\n",
      "Epoch 300/400\n",
      "51/51 [==============================] - 0s 9ms/step - loss: 22300895232.0000 - val_loss: 22245371904.0000\n",
      "Epoch 301/400\n",
      "51/51 [==============================] - 1s 11ms/step - loss: 22260090880.0000 - val_loss: 22237081600.0000\n",
      "Epoch 302/400\n",
      "51/51 [==============================] - 0s 6ms/step - loss: 22252709888.0000 - val_loss: 22253860864.0000\n",
      "Epoch 303/400\n",
      "51/51 [==============================] - 0s 6ms/step - loss: 22268749824.0000 - val_loss: 22282412032.0000\n",
      "Epoch 304/400\n",
      "51/51 [==============================] - 0s 6ms/step - loss: 22266517504.0000 - val_loss: 22224709632.0000\n",
      "Epoch 305/400\n",
      "51/51 [==============================] - 0s 6ms/step - loss: 22242852864.0000 - val_loss: 22219042816.0000\n",
      "Epoch 306/400\n",
      "51/51 [==============================] - 1s 11ms/step - loss: 22249578496.0000 - val_loss: 22227884032.0000\n",
      "Epoch 307/400\n",
      "51/51 [==============================] - 1s 11ms/step - loss: 22253531136.0000 - val_loss: 22231091200.0000\n",
      "Epoch 308/400\n",
      "51/51 [==============================] - 1s 10ms/step - loss: 22251184128.0000 - val_loss: 22218092544.0000\n",
      "Epoch 309/400\n",
      "51/51 [==============================] - 1s 11ms/step - loss: 22221402112.0000 - val_loss: 22199814144.0000\n",
      "Epoch 310/400\n",
      "51/51 [==============================] - 0s 7ms/step - loss: 22214275072.0000 - val_loss: 22199293952.0000\n",
      "Epoch 311/400\n",
      "51/51 [==============================] - 0s 7ms/step - loss: 22267215872.0000 - val_loss: 22190649344.0000\n",
      "Epoch 312/400\n",
      "51/51 [==============================] - 0s 7ms/step - loss: 22273331200.0000 - val_loss: 22188785664.0000\n",
      "Epoch 313/400\n",
      "51/51 [==============================] - 0s 8ms/step - loss: 22203981824.0000 - val_loss: 22231474176.0000\n",
      "Epoch 314/400\n",
      "51/51 [==============================] - 1s 11ms/step - loss: 22236973056.0000 - val_loss: 22289145856.0000\n",
      "Epoch 315/400\n",
      "51/51 [==============================] - 1s 10ms/step - loss: 22226794496.0000 - val_loss: 22196482048.0000\n",
      "Epoch 316/400\n",
      "51/51 [==============================] - 0s 8ms/step - loss: 22182270976.0000 - val_loss: 22191073280.0000\n",
      "Epoch 317/400\n",
      "51/51 [==============================] - 0s 6ms/step - loss: 22198222848.0000 - val_loss: 22233765888.0000\n",
      "Epoch 318/400\n",
      "51/51 [==============================] - 0s 6ms/step - loss: 22201479168.0000 - val_loss: 22170398720.0000\n",
      "Epoch 319/400\n",
      "51/51 [==============================] - 0s 7ms/step - loss: 22211305472.0000 - val_loss: 22159849472.0000\n",
      "Epoch 320/400\n",
      "51/51 [==============================] - 1s 12ms/step - loss: 22219659264.0000 - val_loss: 22159249408.0000\n",
      "Epoch 321/400\n",
      "51/51 [==============================] - 1s 11ms/step - loss: 22184695808.0000 - val_loss: 22150604800.0000\n",
      "Epoch 322/400\n",
      "51/51 [==============================] - 0s 7ms/step - loss: 22176995328.0000 - val_loss: 22161905664.0000\n",
      "Epoch 323/400\n",
      "51/51 [==============================] - 0s 8ms/step - loss: 22175277056.0000 - val_loss: 22148755456.0000\n",
      "Epoch 324/400\n",
      "51/51 [==============================] - 1s 12ms/step - loss: 22157453312.0000 - val_loss: 22143508480.0000\n",
      "Epoch 325/400\n",
      "51/51 [==============================] - 0s 9ms/step - loss: 22172626944.0000 - val_loss: 22136641536.0000\n",
      "Epoch 326/400\n",
      "51/51 [==============================] - 0s 7ms/step - loss: 22168877056.0000 - val_loss: 22140542976.0000\n",
      "Epoch 327/400\n",
      "51/51 [==============================] - 0s 7ms/step - loss: 22146230272.0000 - val_loss: 22134968320.0000\n",
      "Epoch 328/400\n",
      "51/51 [==============================] - 1s 10ms/step - loss: 22231812096.0000 - val_loss: 22128795648.0000\n",
      "Epoch 329/400\n",
      "51/51 [==============================] - 1s 11ms/step - loss: 22158557184.0000 - val_loss: 22120929280.0000\n",
      "Epoch 330/400\n",
      "51/51 [==============================] - 1s 10ms/step - loss: 22143555584.0000 - val_loss: 22119399424.0000\n",
      "Epoch 331/400\n",
      "51/51 [==============================] - 1s 11ms/step - loss: 22139242496.0000 - val_loss: 22129670144.0000\n",
      "Epoch 332/400\n",
      "51/51 [==============================] - 1s 10ms/step - loss: 22138171392.0000 - val_loss: 22165833728.0000\n",
      "Epoch 333/400\n",
      "51/51 [==============================] - 0s 6ms/step - loss: 22116450304.0000 - val_loss: 22230525952.0000\n",
      "Epoch 334/400\n",
      "51/51 [==============================] - 0s 4ms/step - loss: 22173755392.0000 - val_loss: 22112069632.0000\n",
      "Epoch 335/400\n",
      "51/51 [==============================] - 0s 6ms/step - loss: 22123716608.0000 - val_loss: 22101401600.0000\n",
      "Epoch 336/400\n",
      "51/51 [==============================] - 0s 8ms/step - loss: 22146060288.0000 - val_loss: 22106400768.0000\n",
      "Epoch 337/400\n"
     ]
    },
    {
     "name": "stdout",
     "output_type": "stream",
     "text": [
      "51/51 [==============================] - 0s 10ms/step - loss: 22112493568.0000 - val_loss: 22098933760.0000\n",
      "Epoch 338/400\n",
      "51/51 [==============================] - 1s 13ms/step - loss: 22142142464.0000 - val_loss: 22091220992.0000\n",
      "Epoch 339/400\n",
      "51/51 [==============================] - 1s 11ms/step - loss: 22109941760.0000 - val_loss: 22109532160.0000\n",
      "Epoch 340/400\n",
      "51/51 [==============================] - 1s 10ms/step - loss: 22115538944.0000 - val_loss: 22090403840.0000\n",
      "Epoch 341/400\n",
      "51/51 [==============================] - 1s 10ms/step - loss: 22115846144.0000 - val_loss: 22117322752.0000\n",
      "Epoch 342/400\n",
      "51/51 [==============================] - 1s 10ms/step - loss: 22095241216.0000 - val_loss: 22076180480.0000\n",
      "Epoch 343/400\n",
      "51/51 [==============================] - 1s 10ms/step - loss: 22113730560.0000 - val_loss: 22090178560.0000\n",
      "Epoch 344/400\n",
      "51/51 [==============================] - 1s 10ms/step - loss: 22112108544.0000 - val_loss: 22074640384.0000\n",
      "Epoch 345/400\n",
      "51/51 [==============================] - 1s 11ms/step - loss: 22102720512.0000 - val_loss: 22069704704.0000\n",
      "Epoch 346/400\n",
      "51/51 [==============================] - 1s 11ms/step - loss: 22093619200.0000 - val_loss: 22075136000.0000\n",
      "Epoch 347/400\n",
      "51/51 [==============================] - 1s 10ms/step - loss: 22068303872.0000 - val_loss: 22104092672.0000\n",
      "Epoch 348/400\n",
      "51/51 [==============================] - 1s 11ms/step - loss: 22086139904.0000 - val_loss: 22058452992.0000\n",
      "Epoch 349/400\n",
      "51/51 [==============================] - 1s 12ms/step - loss: 22096797696.0000 - val_loss: 22054449152.0000\n",
      "Epoch 350/400\n",
      "51/51 [==============================] - 1s 11ms/step - loss: 22111182848.0000 - val_loss: 22062342144.0000\n",
      "Epoch 351/400\n",
      "51/51 [==============================] - 1s 10ms/step - loss: 22106163200.0000 - val_loss: 22051094528.0000\n",
      "Epoch 352/400\n",
      "51/51 [==============================] - 1s 11ms/step - loss: 22082914304.0000 - val_loss: 22045458432.0000\n",
      "Epoch 353/400\n",
      "51/51 [==============================] - 1s 11ms/step - loss: 22085857280.0000 - val_loss: 22092197888.0000\n",
      "Epoch 354/400\n",
      "51/51 [==============================] - 1s 11ms/step - loss: 22065350656.0000 - val_loss: 22038464512.0000\n",
      "Epoch 355/400\n",
      "51/51 [==============================] - 1s 10ms/step - loss: 22060720128.0000 - val_loss: 22042624000.0000\n",
      "Epoch 356/400\n",
      "51/51 [==============================] - 1s 10ms/step - loss: 22066241536.0000 - val_loss: 22034397184.0000\n",
      "Epoch 357/400\n",
      "51/51 [==============================] - 1s 11ms/step - loss: 22105212928.0000 - val_loss: 22055217152.0000\n",
      "Epoch 358/400\n",
      "51/51 [==============================] - 0s 9ms/step - loss: 22066120704.0000 - val_loss: 22034018304.0000\n",
      "Epoch 359/400\n",
      "51/51 [==============================] - 0s 6ms/step - loss: 22045906944.0000 - val_loss: 22024876032.0000\n",
      "Epoch 360/400\n",
      "51/51 [==============================] - 0s 6ms/step - loss: 22056398848.0000 - val_loss: 22093041664.0000\n",
      "Epoch 361/400\n",
      "51/51 [==============================] - 0s 6ms/step - loss: 22077704192.0000 - val_loss: 22027640832.0000\n",
      "Epoch 362/400\n",
      "51/51 [==============================] - 0s 7ms/step - loss: 22042781696.0000 - val_loss: 22190858240.0000\n",
      "Epoch 363/400\n",
      "51/51 [==============================] - 0s 6ms/step - loss: 22085009408.0000 - val_loss: 22035726336.0000\n",
      "Epoch 364/400\n",
      "51/51 [==============================] - 0s 7ms/step - loss: 22043772928.0000 - val_loss: 22011453440.0000\n",
      "Epoch 365/400\n",
      "51/51 [==============================] - 0s 7ms/step - loss: 22050953216.0000 - val_loss: 22072471552.0000\n",
      "Epoch 366/400\n",
      "51/51 [==============================] - 0s 7ms/step - loss: 22019022848.0000 - val_loss: 22005510144.0000\n",
      "Epoch 367/400\n",
      "51/51 [==============================] - 0s 9ms/step - loss: 22022234112.0000 - val_loss: 22007373824.0000\n",
      "Epoch 368/400\n",
      "51/51 [==============================] - 1s 10ms/step - loss: 22029156352.0000 - val_loss: 21998704640.0000\n",
      "Epoch 369/400\n",
      "51/51 [==============================] - 1s 12ms/step - loss: 22024538112.0000 - val_loss: 22029508608.0000\n",
      "Epoch 370/400\n",
      "51/51 [==============================] - 1s 10ms/step - loss: 22000218112.0000 - val_loss: 22026569728.0000\n",
      "Epoch 371/400\n",
      "51/51 [==============================] - 1s 10ms/step - loss: 22042593280.0000 - val_loss: 21993517056.0000\n",
      "Epoch 372/400\n",
      "51/51 [==============================] - 1s 14ms/step - loss: 22015643648.0000 - val_loss: 21987811328.0000\n",
      "Epoch 373/400\n",
      "51/51 [==============================] - 0s 9ms/step - loss: 22007515136.0000 - val_loss: 21985519616.0000\n",
      "Epoch 374/400\n",
      "51/51 [==============================] - 0s 7ms/step - loss: 22008614912.0000 - val_loss: 21983526912.0000\n",
      "Epoch 375/400\n",
      "51/51 [==============================] - 0s 7ms/step - loss: 22007031808.0000 - val_loss: 21980807168.0000\n",
      "Epoch 376/400\n",
      "51/51 [==============================] - 0s 7ms/step - loss: 22004723712.0000 - val_loss: 21989806080.0000\n",
      "Epoch 377/400\n",
      "51/51 [==============================] - 0s 7ms/step - loss: 22018414592.0000 - val_loss: 21982240768.0000\n",
      "Epoch 378/400\n",
      "51/51 [==============================] - 0s 10ms/step - loss: 22004602880.0000 - val_loss: 21972826112.0000\n",
      "Epoch 379/400\n",
      "51/51 [==============================] - 0s 10ms/step - loss: 21991561216.0000 - val_loss: 21971718144.0000\n",
      "Epoch 380/400\n",
      "51/51 [==============================] - 0s 10ms/step - loss: 22022115328.0000 - val_loss: 22004736000.0000\n",
      "Epoch 381/400\n",
      "51/51 [==============================] - 1s 10ms/step - loss: 22001367040.0000 - val_loss: 21971122176.0000\n",
      "Epoch 382/400\n",
      "51/51 [==============================] - 1s 12ms/step - loss: 22048038912.0000 - val_loss: 21962801152.0000\n",
      "Epoch 383/400\n",
      "51/51 [==============================] - 1s 12ms/step - loss: 21996376064.0000 - val_loss: 21961654272.0000\n",
      "Epoch 384/400\n",
      "51/51 [==============================] - 1s 10ms/step - loss: 21981923328.0000 - val_loss: 21964048384.0000\n",
      "Epoch 385/400\n",
      "51/51 [==============================] - 1s 10ms/step - loss: 22022897664.0000 - val_loss: 21955846144.0000\n",
      "Epoch 386/400\n",
      "51/51 [==============================] - 1s 11ms/step - loss: 21966374912.0000 - val_loss: 21977659392.0000\n",
      "Epoch 387/400\n",
      "51/51 [==============================] - 1s 11ms/step - loss: 21990113280.0000 - val_loss: 21969293312.0000\n",
      "Epoch 388/400\n",
      "51/51 [==============================] - 1s 12ms/step - loss: 22031120384.0000 - val_loss: 21980977152.0000\n",
      "Epoch 389/400\n",
      "51/51 [==============================] - 1s 10ms/step - loss: 21997574144.0000 - val_loss: 21966338048.0000\n",
      "Epoch 390/400\n",
      "51/51 [==============================] - 1s 10ms/step - loss: 21968656384.0000 - val_loss: 21944229888.0000\n",
      "Epoch 391/400\n",
      "51/51 [==============================] - 1s 11ms/step - loss: 21956390912.0000 - val_loss: 21963931648.0000\n",
      "Epoch 392/400\n",
      "51/51 [==============================] - 1s 11ms/step - loss: 21980407808.0000 - val_loss: 21954963456.0000\n",
      "Epoch 393/400\n",
      "51/51 [==============================] - 1s 11ms/step - loss: 22002595840.0000 - val_loss: 22035040256.0000\n",
      "Epoch 394/400\n",
      "51/51 [==============================] - 0s 9ms/step - loss: 21974743040.0000 - val_loss: 21935288320.0000\n",
      "Epoch 395/400\n",
      "51/51 [==============================] - 0s 6ms/step - loss: 21955616768.0000 - val_loss: 21936996352.0000\n",
      "Epoch 396/400\n",
      "51/51 [==============================] - 0s 7ms/step - loss: 21943752704.0000 - val_loss: 22012258304.0000\n",
      "Epoch 397/400\n",
      "51/51 [==============================] - 0s 7ms/step - loss: 21960069120.0000 - val_loss: 21930825728.0000\n",
      "Epoch 398/400\n",
      "51/51 [==============================] - 1s 10ms/step - loss: 21953255424.0000 - val_loss: 21950578688.0000\n",
      "Epoch 399/400\n",
      "51/51 [==============================] - 1s 13ms/step - loss: 21942646784.0000 - val_loss: 21926844416.0000\n",
      "Epoch 400/400\n",
      "51/51 [==============================] - 0s 9ms/step - loss: 21973446656.0000 - val_loss: 21921347584.0000\n"
     ]
    },
    {
     "data": {
      "text/plain": [
       "<keras.callbacks.History at 0x2526eb7c970>"
      ]
     },
     "execution_count": 123,
     "metadata": {},
     "output_type": "execute_result"
    }
   ],
   "source": [
    "model.fit(x=X_test, y=y_test, validation_data=(X_test, y_test), batch_size=128, epochs=400)"
   ]
  },
  {
   "cell_type": "code",
   "execution_count": 125,
   "id": "d8c9f2b0",
   "metadata": {},
   "outputs": [],
   "source": [
    "loss = model.history.history"
   ]
  },
  {
   "cell_type": "code",
   "execution_count": 126,
   "id": "b7d0a09a",
   "metadata": {},
   "outputs": [],
   "source": [
    "lossdf = pd.DataFrame(loss)"
   ]
  },
  {
   "cell_type": "code",
   "execution_count": 128,
   "id": "9c4bc84e",
   "metadata": {},
   "outputs": [
    {
     "data": {
      "text/plain": [
       "<AxesSubplot:>"
      ]
     },
     "execution_count": 128,
     "metadata": {},
     "output_type": "execute_result"
    },
    {
     "data": {
      "image/png": "[encoded data removed]",
      "text/plain": [
       "<Figure size 432x288 with 1 Axes>"
      ]
     },
     "metadata": {
      "needs_background": "light"
     },
     "output_type": "display_data"
    }
   ],
   "source": [
    "lossdf.plot()"
   ]
  },
  {
   "cell_type": "code",
   "execution_count": 132,
   "id": "7db9b61e",
   "metadata": {},
   "outputs": [],
   "source": [
    "#View Metrics\n",
    "from  sklearn.metrics import mean_absolute_error, mean_squared_error, explained_variance_score"
   ]
  },
  {
   "cell_type": "code",
   "execution_count": 133,
   "id": "9491c415",
   "metadata": {},
   "outputs": [],
   "source": [
    "predictions = model.predict(X_test)"
   ]
  },
  {
   "cell_type": "code",
   "execution_count": 134,
   "id": "3b833043",
   "metadata": {},
   "outputs": [
    {
     "data": {
      "text/plain": [
       "array([[993021.06],\n",
       "       [286606.34],\n",
       "       [507906.88],\n",
       "       ...,\n",
       "       [268923.97],\n",
       "       [398530.6 ],\n",
       "       [394505.47]], dtype=float32)"
      ]
     },
     "execution_count": 134,
     "metadata": {},
     "output_type": "execute_result"
    }
   ],
   "source": [
    "predictions"
   ]
  },
  {
   "cell_type": "code",
   "execution_count": 135,
   "id": "4f06f38b",
   "metadata": {},
   "outputs": [
    {
     "data": {
      "text/plain": [
       "99851.64468265975"
      ]
     },
     "execution_count": 135,
     "metadata": {},
     "output_type": "execute_result"
    }
   ],
   "source": [
    "mean_absolute_error(y_test, predictions)"
   ]
  },
  {
   "cell_type": "code",
   "execution_count": 136,
   "id": "45889b91",
   "metadata": {},
   "outputs": [
    {
     "data": {
      "text/plain": [
       "0.738120146555905"
      ]
     },
     "execution_count": 136,
     "metadata": {},
     "output_type": "execute_result"
    }
   ],
   "source": [
    "explained_variance_score(y_test, predictions)"
   ]
  },
  {
   "cell_type": "code",
   "execution_count": 138,
   "id": "11f6ff71",
   "metadata": {},
   "outputs": [],
   "source": [
    "#sns.scatterplot(y_test,predictions)"
   ]
  },
  {
   "cell_type": "code",
   "execution_count": 142,
   "id": "88cef414",
   "metadata": {},
   "outputs": [],
   "source": [
    "#output = pd.DataFrame([#y_test, predictions], columns=['y_test', 'pred'])"
   ]
  },
  {
   "cell_type": "code",
   "execution_count": 144,
   "id": "25e531ee",
   "metadata": {},
   "outputs": [
    {
     "data": {
      "text/plain": [
       "<matplotlib.collections.PathCollection at 0x25271ac63a0>"
      ]
     },
     "execution_count": 144,
     "metadata": {},
     "output_type": "execute_result"
    },
    {
     "data": {
      "image/png": "[encoded data removed]",
      "text/plain": [
       "<Figure size 432x288 with 1 Axes>"
      ]
     },
     "metadata": {
      "needs_background": "light"
     },
     "output_type": "display_data"
    }
   ],
   "source": [
    "plt.scatter(y_test, predictions)\n",
    "plt.scatter(y_test, y_test)"
   ]
  },
  {
   "cell_type": "code",
   "execution_count": 159,
   "id": "9d4edb81",
   "metadata": {},
   "outputs": [],
   "source": [
    "house_for_sale = valid_king_county.drop('price', axis=1).iloc[1].values"
   ]
  },
  {
   "cell_type": "code",
   "execution_count": 162,
   "id": "41f28360",
   "metadata": {},
   "outputs": [
    {
     "data": {
      "text/plain": [
       "2000000.0"
      ]
     },
     "execution_count": 162,
     "metadata": {},
     "output_type": "execute_result"
    }
   ],
   "source": [
    "valid_king_county['price'].iloc[1]"
   ]
  },
  {
   "cell_type": "code",
   "execution_count": 164,
   "id": "973ad6ac",
   "metadata": {},
   "outputs": [
    {
     "data": {
      "text/plain": [
       "array([ 3.00000e+00,  3.25000e+00,  2.61000e+03,  1.63870e+04,\n",
       "        2.00000e+00,  1.00000e+00,  4.00000e+00,  3.00000e+00,\n",
       "        9.00000e+00,  2.61000e+03,  0.00000e+00,  2.00600e+03,\n",
       "        0.00000e+00,  4.77175e+01, -1.22278e+02,  2.59000e+03,\n",
       "        1.29580e+04,  1.10000e+01,  2.01400e+03])"
      ]
     },
     "execution_count": 164,
     "metadata": {},
     "output_type": "execute_result"
    }
   ],
   "source": [
    "house_for_sale"
   ]
  },
  {
   "cell_type": "code",
   "execution_count": 171,
   "id": "6acb8327",
   "metadata": {},
   "outputs": [],
   "source": [
    "shaped_test_data = house_for_sale.reshape(-1,19)"
   ]
  },
  {
   "cell_type": "code",
   "execution_count": 172,
   "id": "e4a411a2",
   "metadata": {},
   "outputs": [],
   "source": [
    "scaled_test_data = scaler.transform(shaped_test_data)"
   ]
  },
  {
   "cell_type": "code",
   "execution_count": 173,
   "id": "34b67d2a",
   "metadata": {},
   "outputs": [
    {
     "data": {
      "text/plain": [
       "array([[0.09090909, 0.43333333, 0.30416667, 0.00958028, 0.4       ,\n",
       "        1.        , 1.        , 0.5       , 0.66666667, 0.36806723,\n",
       "        0.        , 0.92173913, 0.        , 0.89959772, 0.19699499,\n",
       "        0.39962477, 0.01413706, 0.90909091, 0.        ]])"
      ]
     },
     "execution_count": 173,
     "metadata": {},
     "output_type": "execute_result"
    }
   ],
   "source": [
    "scaled_test_data"
   ]
  },
  {
   "cell_type": "code",
   "execution_count": 174,
   "id": "4d5c87d8",
   "metadata": {},
   "outputs": [
    {
     "data": {
      "text/plain": [
       "array([[1211062.6]], dtype=float32)"
      ]
     },
     "execution_count": 174,
     "metadata": {},
     "output_type": "execute_result"
    }
   ],
   "source": [
    "model.predict(scaled_test_data)"
   ]
  },
  {
   "cell_type": "code",
   "execution_count": null,
   "id": "3fd33a28",
   "metadata": {},
   "outputs": [],
   "source": []
  }
 ],
 "metadata": {
  "kernelspec": {
   "display_name": "Python 3 (ipykernel)",
   "language": "python",
   "name": "python3"
  },
  "language_info": {
   "codemirror_mode": {
    "name": "ipython",
    "version": 3
   },
   "file_extension": ".py",
   "mimetype": "text/x-python",
   "name": "python",
   "nbconvert_exporter": "python",
   "pygments_lexer": "ipython3",
   "version": "3.9.7"
  }
 },
 "nbformat": 4,
 "nbformat_minor": 5
}
